{
  "nbformat": 4,
  "nbformat_minor": 5,
  "metadata": {
    "kernelspec": {
      "display_name": "Python 3",
      "language": "python",
      "name": "python3"
    },
    "language_info": {
      "codemirror_mode": {
        "name": "ipython",
        "version": 3
      },
      "file_extension": ".py",
      "mimetype": "text/x-python",
      "name": "python",
      "nbconvert_exporter": "python",
      "pygments_lexer": "ipython3",
      "version": "3.8.8"
    },
    "colab": {
      "name": "CJ_미래기술챌린지_EDA.ipynb",
      "provenance": [],
      "collapsed_sections": [
        "kw6GbP-1a4u7",
        "0a41ea72",
        "b5961c7d",
        "1acfd138",
        "9f59ddc8",
        "d877e40c",
        "0aa53370",
        "7dd12fbb",
        "c4dce2a9",
        "4c12f288",
        "f3417d03",
        "XdOv-FaiXWNV"
      ]
    }
  },
  "cells": [
    {
      "cell_type": "markdown",
      "metadata": {
        "id": "9f59ddc8"
      },
      "source": [
        "# EDA"
      ],
      "id": "9f59ddc8"
    }
  ]
}