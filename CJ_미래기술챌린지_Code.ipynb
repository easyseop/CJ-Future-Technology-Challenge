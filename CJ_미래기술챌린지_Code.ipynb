{
  "cells": [
    {
      "cell_type": "markdown",
      "id": "kw6GbP-1a4u7",
      "metadata": {
        "id": "kw6GbP-1a4u7"
      },
      "source": [
        "#필요한 모듈 불러오기"
      ]
    },
    {
      "cell_type": "code",
      "execution_count": null,
      "id": "d50056e4",
      "metadata": {
        "id": "d50056e4"
      },
      "outputs": [],
      "source": [
        "import pandas as pd\n",
        "import numpy as np\n",
        "import os\n",
        "import pickle\n",
        "import warnings\n",
        "warnings.filterwarnings('ignore')\n",
        "from minisom import MiniSom\n",
        "from tqdm import tqdm, tqdm_notebook, tnrange\n",
        "import time\n",
        "import seaborn as sns\n",
        "import matplotlib.pyplot as plt\n",
        "from multiprocessing import Pool, Manager\n",
        "from datetime import datetime as dt\n",
        "from lxml.html import fromstring, tostring\n",
        "from matplotlib import font_manager, rc\n",
        "from factor_analyzer.factor_analyzer import calculate_bartlett_sphericity\n",
        "from factor_analyzer import FactorAnalyzer\n",
        "import gc\n",
        "plt.rcParams['font.family'] = 'Malgun Gothic'\n",
        "%matplotlib inline  "
      ]
    },
    {
      "cell_type": "markdown",
      "id": "0a41ea72",
      "metadata": {
        "id": "0a41ea72"
      },
      "source": [
        "# 데이터프레임 결합"
      ]
    },
    {
      "cell_type": "code",
      "execution_count": null,
      "id": "d8967a93",
      "metadata": {
        "id": "d8967a93"
      },
      "outputs": [],
      "source": [
        "pickle_path = \"이커머스 FC주문 데이터.pickle\"\n",
        "month_3_path = \"1-1. 이커머스 FC주문 데이터_3월.csv\"\n",
        "month_4_path = \"1-2. 이커머스 FC주문 데이터_4월.csv\"\n",
        "month_5_path = \"1-3. 이커머스 FC주문 데이터_5월.csv\"\n",
        "month_6_path = \"1-4. 이커머스 FC주문 데이터_6월.csv\""
      ]
    },
    {
      "cell_type": "code",
      "execution_count": null,
      "id": "49461c28",
      "metadata": {
        "id": "49461c28"
      },
      "outputs": [],
      "source": [
        "df_M3 = pd.read_csv(month_3_path, low_memory=False, parse_dates=['BKG_DATE','ORDER_CRT_DATETIME'])\n",
        "df_M4 = pd.read_csv(month_4_path, low_memory=False, parse_dates=['BKG_DATE','ORDER_CRT_DATETIME'])\n",
        "df_M5 = pd.read_csv(month_5_path, low_memory=False, parse_dates=['BKG_DATE','ORDER_CRT_DATETIME'])\n",
        "df_M6 = pd.read_csv(month_6_path, low_memory=False, parse_dates=['BKG_DATE','ORDER_CRT_DATETIME'])"
      ]
    },
    {
      "cell_type": "code",
      "execution_count": null,
      "id": "fd9ca34c",
      "metadata": {
        "id": "fd9ca34c"
      },
      "outputs": [],
      "source": [
        "df=pd.concat([df_M3,df_M4,df_M5,df_M6],ignore_index=True)\n"
      ]
    },
    {
      "cell_type": "code",
      "execution_count": null,
      "id": "5d7edeb3",
      "metadata": {
        "id": "5d7edeb3",
        "outputId": "715c0b2f-c2af-4582-a1b4-d8bc11fc1ea0"
      },
      "outputs": [
        {
          "data": {
            "text/plain": [
              "40"
            ]
          },
          "execution_count": 148,
          "metadata": {},
          "output_type": "execute_result"
        }
      ],
      "source": [
        "del [df_M3,df_M4,df_M5,df_M6]\n",
        "gc.collect()"
      ]
    },
    {
      "cell_type": "code",
      "execution_count": null,
      "id": "3b734f9a",
      "metadata": {
        "id": "3b734f9a"
      },
      "outputs": [],
      "source": [
        "df['day']=df['BKG_DATE'].dt.dayofweek"
      ]
    },
    {
      "cell_type": "code",
      "execution_count": null,
      "id": "e4d51582",
      "metadata": {
        "id": "e4d51582"
      },
      "outputs": [],
      "source": [
        "fcols = df.select_dtypes('float').columns\n",
        "icols = df.select_dtypes('integer').columns\n",
        "df[fcols] = df[fcols].apply(pd.to_numeric, downcast='float')\n",
        "df[icols] = df[icols].apply(pd.to_numeric, downcast='integer')\n"
      ]
    },
    {
      "cell_type": "code",
      "execution_count": null,
      "id": "9c68e93f",
      "metadata": {
        "id": "9c68e93f",
        "outputId": "2097cc65-5257-45e3-ffb4-c1692da43097"
      },
      "outputs": [
        {
          "name": "stdout",
          "output_type": "stream",
          "text": [
            "<class 'pandas.core.frame.DataFrame'>\n",
            "RangeIndex: 1786374 entries, 0 to 1786373\n",
            "Data columns (total 33 columns):\n",
            " #   Column              Dtype         \n",
            "---  ------              -----         \n",
            " 0   CORP_ID             category      \n",
            " 1   REF_ORD_NO          object        \n",
            " 2   BKG_NO              object        \n",
            " 3   BKG_TYP             int8          \n",
            " 4   BKG_DATE            datetime64[ns]\n",
            " 5   BKG_TIME            int32         \n",
            " 6   SHPR_CD             int32         \n",
            " 7   INV_AMT             float32       \n",
            " 8   ITEM_SEQ            int8          \n",
            " 9   ITEM_CD             object        \n",
            " 10  BRAND_NM            object        \n",
            " 11  ITEM_QTY            int32         \n",
            " 12  ITEM_AMT            float32       \n",
            " 13  IF_YN               object        \n",
            " 14  ORDER_CRT_DATETIME  datetime64[ns]\n",
            " 15  DLV_DV              float32       \n",
            " 16  REF_ITEM_SEQ        object        \n",
            " 17  ORDER_IDX           object        \n",
            " 18  ORDER_YN            object        \n",
            " 19  DLVPREARRBRANCD     object        \n",
            " 20  DLVPREARREMPNICKNM  object        \n",
            " 21  DLVCLSFCD           object        \n",
            " 22  DLVSUBCLSFCD        object        \n",
            " 23  INS_ID              object        \n",
            " 24  INS_DATE            int32         \n",
            " 25  INS_TIME            int32         \n",
            " 26  POST_ZONE           float32       \n",
            " 27  SPLIT_EXEC_YN       object        \n",
            " 28  SHPR_ADDR_1         object        \n",
            " 29  SHPR_ADDR_2         object        \n",
            " 30  CNEE_ADDR_1         object        \n",
            " 31  CNEE_ADDR_2         object        \n",
            " 32  day                 category      \n",
            "dtypes: category(2), datetime64[ns](2), float32(4), int32(5), int8(2), object(18)\n",
            "memory usage: 340.7+ MB\n"
          ]
        }
      ],
      "source": [
        "df.info()"
      ]
    },
    {
      "cell_type": "code",
      "execution_count": null,
      "id": "e7fe9d3e",
      "metadata": {
        "id": "e7fe9d3e"
      },
      "outputs": [],
      "source": [
        "\n",
        "df['day']=df['BKG_DATE'].dt.dayofweek"
      ]
    },
    {
      "cell_type": "code",
      "execution_count": null,
      "id": "3b564fc5",
      "metadata": {
        "id": "3b564fc5"
      },
      "outputs": [],
      "source": [
        "with open(pickle_path, 'wb') as fw:\n",
        "    pickle.dump(df, fw)\n"
      ]
    },
    {
      "cell_type": "code",
      "execution_count": null,
      "id": "6b573f03",
      "metadata": {
        "id": "6b573f03"
      },
      "outputs": [],
      "source": [
        "with open(pickle_path, 'rb') as fr:\n",
        "    df = pickle.load(fr)"
      ]
    },
    {
      "cell_type": "markdown",
      "id": "b5961c7d",
      "metadata": {
        "id": "b5961c7d"
      },
      "source": [
        "# 날씨데이터 매핑"
      ]
    },
    {
      "cell_type": "markdown",
      "id": "6105aae8",
      "metadata": {
        "id": "6105aae8"
      },
      "source": [
        "- 송화인 주소 통일"
      ]
    },
    {
      "cell_type": "code",
      "execution_count": null,
      "id": "dd67b626",
      "metadata": {
        "id": "dd67b626"
      },
      "outputs": [],
      "source": [
        "dic = {'강원도':['강원'],\n",
        "'경기도':['\\t경기도', '(12730)', '(13279)', '(13499)', '(14782)', '[16817]', '경기', '경기도수원시', '경기도시흥시', '곤지암', '평택시', '화성시'],\n",
        "'경상남도':['(53298)', '경남', '경삼남도'],\n",
        "'경상북도':['경북', '상주시', '영천시', '태종로711번길'],\n",
        "'광주광역시':['광주', '중구'],\n",
        "'대구광역시':['대구', '대구시'],\n",
        "'대전광역시':['대전'],\n",
        "'부산광역시':['부산', '부산시'],\n",
        "'서울특별시':['서울시', '道路名稱首爾特別市中區麻將路1街22號（STUDIO', '강서구', '마포구', '서울', '영등포구', '울특별시', '\\u200b서울시'],\n",
        "'세종특별자치시':['(30100)', '세종', '세종시', '종시'],\n",
        "'울산광역시':['울산'],\n",
        "'인천광역시':['(22738)', '인천', '인천광역시 서구 정서진로 47', '인천광역시미추홀구', '인천시', '인천광역시\\xa0서구\\xa0정서진로\\xa047'],\n",
        "'전라남도':['전남', '전남목포시'],\n",
        "'전라북도':['전북'],\n",
        "'제주도':['제주', '제주특별자치도'],\n",
        "'충청남도':['청남도', '충남', '충남금산군'],\n",
        "'충청북도':['청주시', '충북']}"
      ]
    },
    {
      "cell_type": "code",
      "execution_count": null,
      "id": "2b6f2f1d",
      "metadata": {
        "id": "2b6f2f1d"
      },
      "outputs": [],
      "source": [
        "#각 지역별 대분류로 매핑\n",
        "for key, value in dic.items():\n",
        "    n = len(value)\n",
        "    for i in range(n):\n",
        "        df.loc[df['CNEE_ADDR_1'] == value[i],'CNEE_ADDR_1'] = key"
      ]
    },
    {
      "cell_type": "code",
      "execution_count": null,
      "id": "03a81011",
      "metadata": {
        "id": "03a81011"
      },
      "outputs": [],
      "source": [
        "# CNEE_ADDR_1가 NaN이면 CNEE_ADDR_2의 값을 참조하여 채움\n",
        "df.loc[(df[\"CNEE_ADDR_1\"].isnull()) & (df[\"CNEE_ADDR_2\"]=='경상남도'), 'CNEE_ADDR_1'] = '경상남도'\n",
        "df.loc[(df[\"CNEE_ADDR_1\"].isnull()) & (df[\"CNEE_ADDR_2\"]=='충남공주시'), 'CNEE_ADDR_1'] = '충청남도'"
      ]
    },
    {
      "cell_type": "code",
      "execution_count": null,
      "id": "691bffb5",
      "metadata": {
        "id": "691bffb5"
      },
      "outputs": [],
      "source": [
        "# CNEE_ADDR_1과 CNEE_ADDR_2가 모두 NaN이어서 알 수 없으므로 drop\n",
        "df.dropna(subset = ['CNEE_ADDR_1'], axis=0, inplace=True)"
      ]
    },
    {
      "cell_type": "markdown",
      "id": "24a0568b",
      "metadata": {
        "id": "24a0568b"
      },
      "source": [
        "- 날씨데이터 지점명 통일"
      ]
    },
    {
      "cell_type": "code",
      "execution_count": null,
      "id": "0f33a671",
      "metadata": {
        "id": "0f33a671"
      },
      "outputs": [],
      "source": [
        "df_weather=pd.read_csv('날씨.csv') #날씨 Raw Data 가져오기"
      ]
    },
    {
      "cell_type": "code",
      "execution_count": null,
      "id": "3bc57368",
      "metadata": {
        "id": "3bc57368"
      },
      "outputs": [],
      "source": [
        "\n",
        "dic={'강원도':['강릉','대관령','동해','북강릉','북춘천','삼척','속초','영월','원주','인제','정선군','철원','춘천','태백','홍천'],\n",
        "'경기도':['동두천','수원','양평','이천','파주'],\n",
        "'경상남도':['거제','거창','김해시','남해','밀양','북창원','산청','양산시','의령군','진주','창원','통영','함양군','합천'],\n",
        "'경상북도':['경주시','구미','문경','봉화','상주','안동','영덕','영주','영천','울릉도','울진','의성','청송군','포항'],\n",
        "'광주광역시':['광주'],\n",
        "'대구광역시':['대구','대구(기)'],\n",
        "'대전광역시':['대전'],\n",
        "'부산광역시':['부산'],\n",
        "'서울특별시':['관악산','서울'],\n",
        "'세종특별자치시':['세종'],\n",
        "'울산광역시':['울산'],\n",
        "'인천광역시':['강화','백령도','인천'],\n",
        "'전라남도':['강진군','고흥','광양시','목포','무안','보성군','순천','여수','영광군','완도','장흥','주암','진도(첨찰산)','진도군','해남','흑산도'],\n",
        "'전라북도':['고창','고창군','군산','남원','부안','순창군','임실','장수','전주','정읍'],\n",
        "'제주도':['고산','서귀포','성산','성산','성산포','제주'],\n",
        "'충청남도':['금산','보령','부여','서산','천안','홍성'],\n",
        "'충청북도':['보은','제천','청주','추풍령','충주']}\n"
      ]
    },
    {
      "cell_type": "code",
      "execution_count": null,
      "id": "1f049ab0",
      "metadata": {
        "id": "1f049ab0"
      },
      "outputs": [],
      "source": [
        "#각 지역별 대분류로 매핑\n",
        "for key,value in dic.items():\n",
        "    n=len(value)\n",
        "    for i in range(n):\n",
        "        df_weather.loc[df_weather['지점명']==value[i],'지점명']=key"
      ]
    },
    {
      "cell_type": "code",
      "execution_count": null,
      "id": "99c63ee1",
      "metadata": {
        "id": "99c63ee1"
      },
      "outputs": [],
      "source": [
        "df_weather['지점명'].value_counts().sum()\n",
        "df1=df_weather.groupby(['지점명','일시']).mean().reset_index()\n",
        "df1.drop('지점',axis=1,inplace=True)"
      ]
    },
    {
      "cell_type": "code",
      "execution_count": null,
      "id": "a526ce9e",
      "metadata": {
        "id": "a526ce9e",
        "outputId": "f9ff827f-06a1-4656-eb3a-0c6c771f165f"
      },
      "outputs": [
        {
          "data": {
            "text/html": [
              "<div>\n",
              "<style scoped>\n",
              "    .dataframe tbody tr th:only-of-type {\n",
              "        vertical-align: middle;\n",
              "    }\n",
              "\n",
              "    .dataframe tbody tr th {\n",
              "        vertical-align: top;\n",
              "    }\n",
              "\n",
              "    .dataframe thead th {\n",
              "        text-align: right;\n",
              "    }\n",
              "</style>\n",
              "<table border=\"1\" class=\"dataframe\">\n",
              "  <thead>\n",
              "    <tr style=\"text-align: right;\">\n",
              "      <th></th>\n",
              "      <th>지점명</th>\n",
              "      <th>일시</th>\n",
              "      <th>평균기온(°C)</th>\n",
              "      <th>일강수량(mm)</th>\n",
              "      <th>평균 풍속(m/s)</th>\n",
              "      <th>평균 상대습도(%)</th>\n",
              "      <th>평균 전운량(1/10)</th>\n",
              "    </tr>\n",
              "  </thead>\n",
              "  <tbody>\n",
              "    <tr>\n",
              "      <th>0</th>\n",
              "      <td>강원도</td>\n",
              "      <td>2021-03-01</td>\n",
              "      <td>2.692857</td>\n",
              "      <td>68.000000</td>\n",
              "      <td>2.135714</td>\n",
              "      <td>91.292857</td>\n",
              "      <td>9.915385</td>\n",
              "    </tr>\n",
              "    <tr>\n",
              "      <th>1</th>\n",
              "      <td>강원도</td>\n",
              "      <td>2021-03-02</td>\n",
              "      <td>-0.735714</td>\n",
              "      <td>3.653846</td>\n",
              "      <td>1.564286</td>\n",
              "      <td>83.457143</td>\n",
              "      <td>6.892308</td>\n",
              "    </tr>\n",
              "    <tr>\n",
              "      <th>2</th>\n",
              "      <td>강원도</td>\n",
              "      <td>2021-03-03</td>\n",
              "      <td>0.857143</td>\n",
              "      <td>NaN</td>\n",
              "      <td>1.200000</td>\n",
              "      <td>73.328571</td>\n",
              "      <td>4.438462</td>\n",
              "    </tr>\n",
              "    <tr>\n",
              "      <th>3</th>\n",
              "      <td>강원도</td>\n",
              "      <td>2021-03-04</td>\n",
              "      <td>4.028571</td>\n",
              "      <td>0.100000</td>\n",
              "      <td>1.007143</td>\n",
              "      <td>72.564286</td>\n",
              "      <td>7.484615</td>\n",
              "    </tr>\n",
              "    <tr>\n",
              "      <th>4</th>\n",
              "      <td>강원도</td>\n",
              "      <td>2021-03-05</td>\n",
              "      <td>6.571429</td>\n",
              "      <td>NaN</td>\n",
              "      <td>1.035714</td>\n",
              "      <td>70.171429</td>\n",
              "      <td>2.346154</td>\n",
              "    </tr>\n",
              "    <tr>\n",
              "      <th>...</th>\n",
              "      <td>...</td>\n",
              "      <td>...</td>\n",
              "      <td>...</td>\n",
              "      <td>...</td>\n",
              "      <td>...</td>\n",
              "      <td>...</td>\n",
              "      <td>...</td>\n",
              "    </tr>\n",
              "    <tr>\n",
              "      <th>2069</th>\n",
              "      <td>충청북도</td>\n",
              "      <td>2021-06-26</td>\n",
              "      <td>21.160000</td>\n",
              "      <td>7.960000</td>\n",
              "      <td>0.940000</td>\n",
              "      <td>83.640000</td>\n",
              "      <td>8.420000</td>\n",
              "    </tr>\n",
              "    <tr>\n",
              "      <th>2070</th>\n",
              "      <td>충청북도</td>\n",
              "      <td>2021-06-27</td>\n",
              "      <td>23.200000</td>\n",
              "      <td>NaN</td>\n",
              "      <td>1.440000</td>\n",
              "      <td>72.140000</td>\n",
              "      <td>6.220000</td>\n",
              "    </tr>\n",
              "    <tr>\n",
              "      <th>2071</th>\n",
              "      <td>충청북도</td>\n",
              "      <td>2021-06-28</td>\n",
              "      <td>22.880000</td>\n",
              "      <td>1.900000</td>\n",
              "      <td>1.620000</td>\n",
              "      <td>73.660000</td>\n",
              "      <td>6.920000</td>\n",
              "    </tr>\n",
              "    <tr>\n",
              "      <th>2072</th>\n",
              "      <td>충청북도</td>\n",
              "      <td>2021-06-29</td>\n",
              "      <td>22.860000</td>\n",
              "      <td>12.620000</td>\n",
              "      <td>1.200000</td>\n",
              "      <td>78.040000</td>\n",
              "      <td>6.220000</td>\n",
              "    </tr>\n",
              "    <tr>\n",
              "      <th>2073</th>\n",
              "      <td>충청북도</td>\n",
              "      <td>2021-06-30</td>\n",
              "      <td>23.240000</td>\n",
              "      <td>0.350000</td>\n",
              "      <td>1.040000</td>\n",
              "      <td>81.260000</td>\n",
              "      <td>6.980000</td>\n",
              "    </tr>\n",
              "  </tbody>\n",
              "</table>\n",
              "<p>2074 rows × 7 columns</p>\n",
              "</div>"
            ],
            "text/plain": [
              "       지점명          일시   평균기온(°C)   일강수량(mm)  평균 풍속(m/s)  평균 상대습도(%)  \\\n",
              "0      강원도  2021-03-01   2.692857  68.000000    2.135714   91.292857   \n",
              "1      강원도  2021-03-02  -0.735714   3.653846    1.564286   83.457143   \n",
              "2      강원도  2021-03-03   0.857143        NaN    1.200000   73.328571   \n",
              "3      강원도  2021-03-04   4.028571   0.100000    1.007143   72.564286   \n",
              "4      강원도  2021-03-05   6.571429        NaN    1.035714   70.171429   \n",
              "...    ...         ...        ...        ...         ...         ...   \n",
              "2069  충청북도  2021-06-26  21.160000   7.960000    0.940000   83.640000   \n",
              "2070  충청북도  2021-06-27  23.200000        NaN    1.440000   72.140000   \n",
              "2071  충청북도  2021-06-28  22.880000   1.900000    1.620000   73.660000   \n",
              "2072  충청북도  2021-06-29  22.860000  12.620000    1.200000   78.040000   \n",
              "2073  충청북도  2021-06-30  23.240000   0.350000    1.040000   81.260000   \n",
              "\n",
              "      평균 전운량(1/10)  \n",
              "0         9.915385  \n",
              "1         6.892308  \n",
              "2         4.438462  \n",
              "3         7.484615  \n",
              "4         2.346154  \n",
              "...            ...  \n",
              "2069      8.420000  \n",
              "2070      6.220000  \n",
              "2071      6.920000  \n",
              "2072      6.220000  \n",
              "2073      6.980000  \n",
              "\n",
              "[2074 rows x 7 columns]"
            ]
          },
          "execution_count": 167,
          "metadata": {},
          "output_type": "execute_result"
        }
      ],
      "source": [
        "df1"
      ]
    },
    {
      "cell_type": "code",
      "execution_count": null,
      "id": "4a9ef44d",
      "metadata": {
        "id": "4a9ef44d"
      },
      "outputs": [],
      "source": [
        "df1['일시']=pd.to_datetime(df1['일시'])"
      ]
    },
    {
      "cell_type": "code",
      "execution_count": null,
      "id": "dccbfe61",
      "metadata": {
        "id": "dccbfe61",
        "outputId": "7b63225d-daf8-48d5-eaca-3e69d18585e6"
      },
      "outputs": [
        {
          "data": {
            "text/html": [
              "<div>\n",
              "<style scoped>\n",
              "    .dataframe tbody tr th:only-of-type {\n",
              "        vertical-align: middle;\n",
              "    }\n",
              "\n",
              "    .dataframe tbody tr th {\n",
              "        vertical-align: top;\n",
              "    }\n",
              "\n",
              "    .dataframe thead th {\n",
              "        text-align: right;\n",
              "    }\n",
              "</style>\n",
              "<table border=\"1\" class=\"dataframe\">\n",
              "  <thead>\n",
              "    <tr style=\"text-align: right;\">\n",
              "      <th></th>\n",
              "      <th>지점명</th>\n",
              "      <th>일시</th>\n",
              "      <th>평균기온(°C)</th>\n",
              "      <th>일강수량(mm)</th>\n",
              "      <th>평균 풍속(m/s)</th>\n",
              "      <th>평균 상대습도(%)</th>\n",
              "      <th>평균 전운량(1/10)</th>\n",
              "    </tr>\n",
              "  </thead>\n",
              "  <tbody>\n",
              "    <tr>\n",
              "      <th>0</th>\n",
              "      <td>강원도</td>\n",
              "      <td>2021-03-01</td>\n",
              "      <td>2.69</td>\n",
              "      <td>68.00</td>\n",
              "      <td>2.14</td>\n",
              "      <td>91.29</td>\n",
              "      <td>9.92</td>\n",
              "    </tr>\n",
              "    <tr>\n",
              "      <th>1</th>\n",
              "      <td>강원도</td>\n",
              "      <td>2021-03-02</td>\n",
              "      <td>-0.74</td>\n",
              "      <td>3.65</td>\n",
              "      <td>1.56</td>\n",
              "      <td>83.46</td>\n",
              "      <td>6.89</td>\n",
              "    </tr>\n",
              "    <tr>\n",
              "      <th>2</th>\n",
              "      <td>강원도</td>\n",
              "      <td>2021-03-03</td>\n",
              "      <td>0.86</td>\n",
              "      <td>NaN</td>\n",
              "      <td>1.20</td>\n",
              "      <td>73.33</td>\n",
              "      <td>4.44</td>\n",
              "    </tr>\n",
              "    <tr>\n",
              "      <th>3</th>\n",
              "      <td>강원도</td>\n",
              "      <td>2021-03-04</td>\n",
              "      <td>4.03</td>\n",
              "      <td>0.10</td>\n",
              "      <td>1.01</td>\n",
              "      <td>72.56</td>\n",
              "      <td>7.48</td>\n",
              "    </tr>\n",
              "    <tr>\n",
              "      <th>4</th>\n",
              "      <td>강원도</td>\n",
              "      <td>2021-03-05</td>\n",
              "      <td>6.57</td>\n",
              "      <td>NaN</td>\n",
              "      <td>1.04</td>\n",
              "      <td>70.17</td>\n",
              "      <td>2.35</td>\n",
              "    </tr>\n",
              "    <tr>\n",
              "      <th>...</th>\n",
              "      <td>...</td>\n",
              "      <td>...</td>\n",
              "      <td>...</td>\n",
              "      <td>...</td>\n",
              "      <td>...</td>\n",
              "      <td>...</td>\n",
              "      <td>...</td>\n",
              "    </tr>\n",
              "    <tr>\n",
              "      <th>2069</th>\n",
              "      <td>충청북도</td>\n",
              "      <td>2021-06-26</td>\n",
              "      <td>21.16</td>\n",
              "      <td>7.96</td>\n",
              "      <td>0.94</td>\n",
              "      <td>83.64</td>\n",
              "      <td>8.42</td>\n",
              "    </tr>\n",
              "    <tr>\n",
              "      <th>2070</th>\n",
              "      <td>충청북도</td>\n",
              "      <td>2021-06-27</td>\n",
              "      <td>23.20</td>\n",
              "      <td>NaN</td>\n",
              "      <td>1.44</td>\n",
              "      <td>72.14</td>\n",
              "      <td>6.22</td>\n",
              "    </tr>\n",
              "    <tr>\n",
              "      <th>2071</th>\n",
              "      <td>충청북도</td>\n",
              "      <td>2021-06-28</td>\n",
              "      <td>22.88</td>\n",
              "      <td>1.90</td>\n",
              "      <td>1.62</td>\n",
              "      <td>73.66</td>\n",
              "      <td>6.92</td>\n",
              "    </tr>\n",
              "    <tr>\n",
              "      <th>2072</th>\n",
              "      <td>충청북도</td>\n",
              "      <td>2021-06-29</td>\n",
              "      <td>22.86</td>\n",
              "      <td>12.62</td>\n",
              "      <td>1.20</td>\n",
              "      <td>78.04</td>\n",
              "      <td>6.22</td>\n",
              "    </tr>\n",
              "    <tr>\n",
              "      <th>2073</th>\n",
              "      <td>충청북도</td>\n",
              "      <td>2021-06-30</td>\n",
              "      <td>23.24</td>\n",
              "      <td>0.35</td>\n",
              "      <td>1.04</td>\n",
              "      <td>81.26</td>\n",
              "      <td>6.98</td>\n",
              "    </tr>\n",
              "  </tbody>\n",
              "</table>\n",
              "<p>2074 rows × 7 columns</p>\n",
              "</div>"
            ],
            "text/plain": [
              "       지점명         일시  평균기온(°C)  일강수량(mm)  평균 풍속(m/s)  평균 상대습도(%)  \\\n",
              "0      강원도 2021-03-01      2.69     68.00        2.14       91.29   \n",
              "1      강원도 2021-03-02     -0.74      3.65        1.56       83.46   \n",
              "2      강원도 2021-03-03      0.86       NaN        1.20       73.33   \n",
              "3      강원도 2021-03-04      4.03      0.10        1.01       72.56   \n",
              "4      강원도 2021-03-05      6.57       NaN        1.04       70.17   \n",
              "...    ...        ...       ...       ...         ...         ...   \n",
              "2069  충청북도 2021-06-26     21.16      7.96        0.94       83.64   \n",
              "2070  충청북도 2021-06-27     23.20       NaN        1.44       72.14   \n",
              "2071  충청북도 2021-06-28     22.88      1.90        1.62       73.66   \n",
              "2072  충청북도 2021-06-29     22.86     12.62        1.20       78.04   \n",
              "2073  충청북도 2021-06-30     23.24      0.35        1.04       81.26   \n",
              "\n",
              "      평균 전운량(1/10)  \n",
              "0             9.92  \n",
              "1             6.89  \n",
              "2             4.44  \n",
              "3             7.48  \n",
              "4             2.35  \n",
              "...            ...  \n",
              "2069          8.42  \n",
              "2070          6.22  \n",
              "2071          6.92  \n",
              "2072          6.22  \n",
              "2073          6.98  \n",
              "\n",
              "[2074 rows x 7 columns]"
            ]
          },
          "execution_count": 169,
          "metadata": {},
          "output_type": "execute_result"
        }
      ],
      "source": [
        "# 날씨데이터 수치 소수점 둘 째 자리까지 반올림\n",
        "df1[['평균기온(°C)','일강수량(mm)','평균 풍속(m/s)','평균 상대습도(%)','평균 전운량(1/10)']]=\\\n",
        "df1[['평균기온(°C)','일강수량(mm)','평균 풍속(m/s)','평균 상대습도(%)','평균 전운량(1/10)']].round(2)\n",
        "df1"
      ]
    },
    {
      "cell_type": "code",
      "execution_count": null,
      "id": "5f837ec2",
      "metadata": {
        "id": "5f837ec2"
      },
      "outputs": [],
      "source": [
        "#이커머스 데이터와 날씨 데이터 JOIN\n",
        "df_wea_order=pd.merge(df,df1,left_on=['BKG_DATE','CNEE_ADDR_1'],right_on=['일시','지점명'])"
      ]
    },
    {
      "cell_type": "markdown",
      "id": "1acfd138",
      "metadata": {
        "id": "1acfd138"
      },
      "source": [
        "# 컬럼 정제"
      ]
    },
    {
      "cell_type": "code",
      "execution_count": null,
      "id": "0f45d05e",
      "metadata": {
        "id": "0f45d05e"
      },
      "outputs": [],
      "source": [
        "#결측치 0값으로 대체 \n",
        "df_wea_order['일강수량(mm)'].fillna(value=0,inplace=True)\n",
        "df_wea_order['평균 전운량(1/10)'].fillna(value=0,inplace=True)\n",
        "#'ITEM_CD' 일련화               \n",
        "df_wea_order['ITEM_CD'].replace('_\\d','',regex=True,inplace=True)\n",
        "df_wea_order['ITEM_CD'].replace('-\\d','',regex=True,inplace=True)"
      ]
    },
    {
      "cell_type": "code",
      "execution_count": null,
      "id": "29e65f79",
      "metadata": {
        "id": "29e65f79"
      },
      "outputs": [],
      "source": [
        "df_wea_order=df_wea_order[df_wea_order['BKG_TYP']==7]\n",
        "df_wea_order.drop(\n",
        "    columns=['REF_ITEM_SEQ','SHPR_ADDR_2','CNEE_ADDR_2','지점명','일시',\\\n",
        "             'ITEM_AMT','INV_AMT','BKG_TYP','BKG_TIME','ITEM_SEQ',\\\n",
        "             'BRAND_NM','IF_YN', 'ORDER_CRT_DATETIME','DLV_DV','ORDER_YN',\\\n",
        "             'DLVPREARRBRANCD', 'DLVPREARREMPNICKNM','DLVSUBCLSFCD','INS_ID','INS_DATE', \\\n",
        "             'INS_TIME','SPLIT_EXEC_YN','BKG_NO','REF_ORD_NO','DLVCLSFCD','POST_ZONE'] \\\n",
        "              , axis=1,inplace=True)\n",
        "df_wea_order.reset_index(drop=True,inplace=True)"
      ]
    },
    {
      "cell_type": "code",
      "execution_count": null,
      "id": "2754d326",
      "metadata": {
        "id": "2754d326"
      },
      "outputs": [],
      "source": [
        "df_wea_order.rename(columns={'평균기온(°C)':'평균기온'\\\n",
        "                             ,'일강수량(mm)':'평균강수량'\\\n",
        "                             ,'평균 풍속(m/s)':'평균풍속'\\\n",
        "                             ,'평균 상대습도(%)':'평균습도'\\\n",
        "                             ,'평균 전운량(1/10)':'평균전운량'},inplace=True)"
      ]
    },
    {
      "cell_type": "code",
      "execution_count": null,
      "id": "433e7e8c",
      "metadata": {
        "id": "433e7e8c"
      },
      "outputs": [],
      "source": [
        "def 체감온도(T,V):\n",
        "    V=V*3.6\n",
        "    return round(13.12 + 0.6215*T - 11.37 *V**0.16 + 0.3965 *V**0.16*T)\n",
        "\n",
        "def 열지수(df):\n",
        "    T=df.평균기온\n",
        "    A=df.평균습도\n",
        "    import math \n",
        "    F=1.8*T+32\n",
        "    #화씨 80 이하 \n",
        "    if (F<80):\n",
        "        hi=0.5 * (F + 61.0 + (F-68.0)*1.2 + (A*0.094))\n",
        "      #상대습도 85 이상 , 온도 80~87\n",
        "    elif (A>=85) & ((F>=80) & (F<87)):\n",
        "        ad=((A-85)/10) * ((87-F)/5)\n",
        "        hi=-42.379+2.049*F+10.143*A-0.225*F*A-0.007*(F**2)-0.055*(A**2)+0.001*(F**2)*A+0.0009*F*(A**2)-0.000002*(F**2)*(A**2)\n",
        "        hi=hi+ad\n",
        "    elif (A<=13) & ((F>=80) & (F<112)): \n",
        "      #상대습도가 13이하 , 화씨 80~112\n",
        "        ad=((13-A)/4)*math.sqrt((17-abs(F-95))/17)\n",
        "        hi=-42.379+2.049*F+10.143*A-0.225*F*A-0.007*(F**2)-0.055*(A**2)+0.001*(F**2)*A+0.0009*F*(A**2)-0.000002*(F**2)*(A**2)\n",
        "        hi=hi-ad\n",
        "    else:\n",
        "        hi=-42.379+2.049*F+10.143*A-0.225*F*A-0.007*(F**2)-0.055*(A**2)+0.001*(F**2)*A+0.0009*F*(A**2)-0.000002*(F**2)*(A**2)\n",
        "    heat_hi = (5/9)*(hi-32)\n",
        "  \n",
        "    return round(heat_hi,1)\n"
      ]
    },
    {
      "cell_type": "code",
      "execution_count": null,
      "id": "53ffdc89",
      "metadata": {
        "id": "53ffdc89",
        "outputId": "7d5246a7-8e89-4ed7-ac5b-636e9730b550"
      },
      "outputs": [
        {
          "data": {
            "text/html": [
              "<div>\n",
              "<style scoped>\n",
              "    .dataframe tbody tr th:only-of-type {\n",
              "        vertical-align: middle;\n",
              "    }\n",
              "\n",
              "    .dataframe tbody tr th {\n",
              "        vertical-align: top;\n",
              "    }\n",
              "\n",
              "    .dataframe thead th {\n",
              "        text-align: right;\n",
              "    }\n",
              "</style>\n",
              "<table border=\"1\" class=\"dataframe\">\n",
              "  <thead>\n",
              "    <tr style=\"text-align: right;\">\n",
              "      <th></th>\n",
              "      <th>CORP_ID</th>\n",
              "      <th>BKG_DATE</th>\n",
              "      <th>SHPR_CD</th>\n",
              "      <th>ITEM_CD</th>\n",
              "      <th>ITEM_QTY</th>\n",
              "      <th>ORDER_IDX</th>\n",
              "      <th>SHPR_ADDR_1</th>\n",
              "      <th>CNEE_ADDR_1</th>\n",
              "      <th>day</th>\n",
              "      <th>평균기온</th>\n",
              "      <th>평균강수량</th>\n",
              "      <th>평균풍속</th>\n",
              "      <th>평균습도</th>\n",
              "      <th>평균전운량</th>\n",
              "      <th>날씨지수</th>\n",
              "    </tr>\n",
              "  </thead>\n",
              "  <tbody>\n",
              "    <tr>\n",
              "      <th>0</th>\n",
              "      <td>KX007</td>\n",
              "      <td>2021-03-03</td>\n",
              "      <td>90001302</td>\n",
              "      <td>134265392</td>\n",
              "      <td>1</td>\n",
              "      <td>2021030323885041</td>\n",
              "      <td>세종특별자치시</td>\n",
              "      <td>서울특별시</td>\n",
              "      <td>2</td>\n",
              "      <td>4.4</td>\n",
              "      <td>0.0</td>\n",
              "      <td>1.8</td>\n",
              "      <td>64.4</td>\n",
              "      <td>4.5</td>\n",
              "      <td>3.0</td>\n",
              "    </tr>\n",
              "    <tr>\n",
              "      <th>1</th>\n",
              "      <td>KX007</td>\n",
              "      <td>2021-03-03</td>\n",
              "      <td>90001542</td>\n",
              "      <td>3858391637</td>\n",
              "      <td>1</td>\n",
              "      <td>2021030323895281</td>\n",
              "      <td>경기도</td>\n",
              "      <td>서울특별시</td>\n",
              "      <td>2</td>\n",
              "      <td>4.4</td>\n",
              "      <td>0.0</td>\n",
              "      <td>1.8</td>\n",
              "      <td>64.4</td>\n",
              "      <td>4.5</td>\n",
              "      <td>3.0</td>\n",
              "    </tr>\n",
              "    <tr>\n",
              "      <th>2</th>\n",
              "      <td>KX007</td>\n",
              "      <td>2021-03-03</td>\n",
              "      <td>90001341</td>\n",
              "      <td>5161458796</td>\n",
              "      <td>1</td>\n",
              "      <td>2021030323912641</td>\n",
              "      <td>경기도</td>\n",
              "      <td>서울특별시</td>\n",
              "      <td>2</td>\n",
              "      <td>4.4</td>\n",
              "      <td>0.0</td>\n",
              "      <td>1.8</td>\n",
              "      <td>64.4</td>\n",
              "      <td>4.5</td>\n",
              "      <td>3.0</td>\n",
              "    </tr>\n",
              "    <tr>\n",
              "      <th>3</th>\n",
              "      <td>KX007</td>\n",
              "      <td>2021-03-03</td>\n",
              "      <td>90001441</td>\n",
              "      <td>4624200932</td>\n",
              "      <td>1</td>\n",
              "      <td>2021030323949931</td>\n",
              "      <td>경기도</td>\n",
              "      <td>서울특별시</td>\n",
              "      <td>2</td>\n",
              "      <td>4.4</td>\n",
              "      <td>0.0</td>\n",
              "      <td>1.8</td>\n",
              "      <td>64.4</td>\n",
              "      <td>4.5</td>\n",
              "      <td>3.0</td>\n",
              "    </tr>\n",
              "    <tr>\n",
              "      <th>4</th>\n",
              "      <td>KX007</td>\n",
              "      <td>2021-03-03</td>\n",
              "      <td>90001541</td>\n",
              "      <td>4929464978</td>\n",
              "      <td>1</td>\n",
              "      <td>2021030323878091</td>\n",
              "      <td>경기도</td>\n",
              "      <td>서울특별시</td>\n",
              "      <td>2</td>\n",
              "      <td>4.4</td>\n",
              "      <td>0.0</td>\n",
              "      <td>1.8</td>\n",
              "      <td>64.4</td>\n",
              "      <td>4.5</td>\n",
              "      <td>3.0</td>\n",
              "    </tr>\n",
              "    <tr>\n",
              "      <th>...</th>\n",
              "      <td>...</td>\n",
              "      <td>...</td>\n",
              "      <td>...</td>\n",
              "      <td>...</td>\n",
              "      <td>...</td>\n",
              "      <td>...</td>\n",
              "      <td>...</td>\n",
              "      <td>...</td>\n",
              "      <td>...</td>\n",
              "      <td>...</td>\n",
              "      <td>...</td>\n",
              "      <td>...</td>\n",
              "      <td>...</td>\n",
              "      <td>...</td>\n",
              "      <td>...</td>\n",
              "    </tr>\n",
              "    <tr>\n",
              "      <th>1785320</th>\n",
              "      <td>KX007</td>\n",
              "      <td>2021-06-29</td>\n",
              "      <td>90001622</td>\n",
              "      <td>5528524517</td>\n",
              "      <td>1</td>\n",
              "      <td>2021062911883661</td>\n",
              "      <td>경기도</td>\n",
              "      <td>세종특별자치시</td>\n",
              "      <td>1</td>\n",
              "      <td>23.2</td>\n",
              "      <td>3.1</td>\n",
              "      <td>1.0</td>\n",
              "      <td>80.0</td>\n",
              "      <td>5.1</td>\n",
              "      <td>23.7</td>\n",
              "    </tr>\n",
              "    <tr>\n",
              "      <th>1785321</th>\n",
              "      <td>KX007</td>\n",
              "      <td>2021-06-29</td>\n",
              "      <td>90001622</td>\n",
              "      <td>55194709829</td>\n",
              "      <td>1</td>\n",
              "      <td>2021062913232751</td>\n",
              "      <td>경기도</td>\n",
              "      <td>세종특별자치시</td>\n",
              "      <td>1</td>\n",
              "      <td>23.2</td>\n",
              "      <td>3.1</td>\n",
              "      <td>1.0</td>\n",
              "      <td>80.0</td>\n",
              "      <td>5.1</td>\n",
              "      <td>23.7</td>\n",
              "    </tr>\n",
              "    <tr>\n",
              "      <th>1785322</th>\n",
              "      <td>KX007</td>\n",
              "      <td>2021-06-29</td>\n",
              "      <td>90001682</td>\n",
              "      <td>558225707043</td>\n",
              "      <td>1</td>\n",
              "      <td>2021062976202651</td>\n",
              "      <td>경기도</td>\n",
              "      <td>세종특별자치시</td>\n",
              "      <td>1</td>\n",
              "      <td>23.2</td>\n",
              "      <td>3.1</td>\n",
              "      <td>1.0</td>\n",
              "      <td>80.0</td>\n",
              "      <td>5.1</td>\n",
              "      <td>23.7</td>\n",
              "    </tr>\n",
              "    <tr>\n",
              "      <th>1785323</th>\n",
              "      <td>KX007</td>\n",
              "      <td>2021-06-29</td>\n",
              "      <td>90001341</td>\n",
              "      <td>5256729806</td>\n",
              "      <td>1</td>\n",
              "      <td>2021062910638861</td>\n",
              "      <td>경기도</td>\n",
              "      <td>세종특별자치시</td>\n",
              "      <td>1</td>\n",
              "      <td>23.2</td>\n",
              "      <td>3.1</td>\n",
              "      <td>1.0</td>\n",
              "      <td>80.0</td>\n",
              "      <td>5.1</td>\n",
              "      <td>23.7</td>\n",
              "    </tr>\n",
              "    <tr>\n",
              "      <th>1785324</th>\n",
              "      <td>GP001</td>\n",
              "      <td>2021-06-29</td>\n",
              "      <td>90001765</td>\n",
              "      <td>4772445613</td>\n",
              "      <td>2</td>\n",
              "      <td>2021062982271251</td>\n",
              "      <td>경기도</td>\n",
              "      <td>세종특별자치시</td>\n",
              "      <td>1</td>\n",
              "      <td>23.2</td>\n",
              "      <td>3.1</td>\n",
              "      <td>1.0</td>\n",
              "      <td>80.0</td>\n",
              "      <td>5.1</td>\n",
              "      <td>23.7</td>\n",
              "    </tr>\n",
              "  </tbody>\n",
              "</table>\n",
              "<p>1785325 rows × 15 columns</p>\n",
              "</div>"
            ],
            "text/plain": [
              "        CORP_ID   BKG_DATE   SHPR_CD       ITEM_CD  ITEM_QTY  \\\n",
              "0         KX007 2021-03-03  90001302     134265392         1   \n",
              "1         KX007 2021-03-03  90001542    3858391637         1   \n",
              "2         KX007 2021-03-03  90001341    5161458796         1   \n",
              "3         KX007 2021-03-03  90001441    4624200932         1   \n",
              "4         KX007 2021-03-03  90001541    4929464978         1   \n",
              "...         ...        ...       ...           ...       ...   \n",
              "1785320   KX007 2021-06-29  90001622    5528524517         1   \n",
              "1785321   KX007 2021-06-29  90001622   55194709829         1   \n",
              "1785322   KX007 2021-06-29  90001682  558225707043         1   \n",
              "1785323   KX007 2021-06-29  90001341    5256729806         1   \n",
              "1785324   GP001 2021-06-29  90001765    4772445613         2   \n",
              "\n",
              "                ORDER_IDX SHPR_ADDR_1 CNEE_ADDR_1 day  평균기온  평균강수량  평균풍속  \\\n",
              "0        2021030323885041     세종특별자치시       서울특별시   2   4.4    0.0   1.8   \n",
              "1        2021030323895281         경기도       서울특별시   2   4.4    0.0   1.8   \n",
              "2        2021030323912641         경기도       서울특별시   2   4.4    0.0   1.8   \n",
              "3        2021030323949931         경기도       서울특별시   2   4.4    0.0   1.8   \n",
              "4        2021030323878091         경기도       서울특별시   2   4.4    0.0   1.8   \n",
              "...                   ...         ...         ...  ..   ...    ...   ...   \n",
              "1785320  2021062911883661         경기도     세종특별자치시   1  23.2    3.1   1.0   \n",
              "1785321  2021062913232751         경기도     세종특별자치시   1  23.2    3.1   1.0   \n",
              "1785322  2021062976202651         경기도     세종특별자치시   1  23.2    3.1   1.0   \n",
              "1785323  2021062910638861         경기도     세종특별자치시   1  23.2    3.1   1.0   \n",
              "1785324  2021062982271251         경기도     세종특별자치시   1  23.2    3.1   1.0   \n",
              "\n",
              "         평균습도  평균전운량  날씨지수  \n",
              "0        64.4    4.5   3.0  \n",
              "1        64.4    4.5   3.0  \n",
              "2        64.4    4.5   3.0  \n",
              "3        64.4    4.5   3.0  \n",
              "4        64.4    4.5   3.0  \n",
              "...       ...    ...   ...  \n",
              "1785320  80.0    5.1  23.7  \n",
              "1785321  80.0    5.1  23.7  \n",
              "1785322  80.0    5.1  23.7  \n",
              "1785323  80.0    5.1  23.7  \n",
              "1785324  80.0    5.1  23.7  \n",
              "\n",
              "[1785325 rows x 15 columns]"
            ]
          },
          "execution_count": 179,
          "metadata": {},
          "output_type": "execute_result"
        }
      ],
      "source": [
        "df_wea_order['날씨지수'] = np.where((df_wea_order['평균기온']<=10) & (df_wea_order['평균풍속']>=1.3),\\\n",
        "                        체감온도(df_wea_order['평균기온'],df_wea_order['평균풍속']),df_wea_order.apply(열지수,axis=1))\n",
        "df_wea_order"
      ]
    },
    {
      "cell_type": "code",
      "execution_count": null,
      "id": "e78efb0d",
      "metadata": {
        "id": "e78efb0d"
      },
      "outputs": [],
      "source": [
        "df_wea_order['날씨지수'].replace(-18.1,28,inplace=True)"
      ]
    },
    {
      "cell_type": "code",
      "execution_count": null,
      "id": "ffb2fdfc",
      "metadata": {
        "id": "ffb2fdfc",
        "outputId": "d8aadcd2-8a45-4fef-99fc-40a341b35bdc"
      },
      "outputs": [
        {
          "name": "stdout",
          "output_type": "stream",
          "text": [
            "<class 'pandas.core.frame.DataFrame'>\n",
            "RangeIndex: 1785325 entries, 0 to 1785324\n",
            "Data columns (total 15 columns):\n",
            " #   Column       Dtype         \n",
            "---  ------       -----         \n",
            " 0   CORP_ID      category      \n",
            " 1   BKG_DATE     datetime64[ns]\n",
            " 2   SHPR_CD      int32         \n",
            " 3   ITEM_CD      object        \n",
            " 4   ITEM_QTY     int32         \n",
            " 5   ORDER_IDX    object        \n",
            " 6   SHPR_ADDR_1  object        \n",
            " 7   CNEE_ADDR_1  object        \n",
            " 8   day          category      \n",
            " 9   평균기온         float64       \n",
            " 10  평균강수량        float64       \n",
            " 11  평균풍속         float64       \n",
            " 12  평균습도         float64       \n",
            " 13  평균전운량        float64       \n",
            " 14  날씨지수         float64       \n",
            "dtypes: category(2), datetime64[ns](1), float64(6), int32(2), object(4)\n",
            "memory usage: 166.9+ MB\n"
          ]
        }
      ],
      "source": [
        "df_wea_order.info()"
      ]
    },
    {
      "cell_type": "markdown",
      "id": "0aa53370",
      "metadata": {
        "id": "0aa53370"
      },
      "source": [
        "# 요인분석 및 SOM"
      ]
    },
    {
      "cell_type": "code",
      "execution_count": null,
      "id": "583a701e",
      "metadata": {
        "colab": {
          "base_uri": "https://localhost:8080/",
          "height": 205
        },
        "id": "583a701e",
        "outputId": "d451fbcd-b0e8-4290-b5fc-8b758a652985"
      },
      "outputs": [
        {
          "ename": "NameError",
          "evalue": "ignored",
          "output_type": "error",
          "traceback": [
            "\u001b[0;31m---------------------------------------------------------------------------\u001b[0m",
            "\u001b[0;31mNameError\u001b[0m                                 Traceback (most recent call last)",
            "\u001b[0;32m<ipython-input-1-63d66767e4f9>\u001b[0m in \u001b[0;36m<module>\u001b[0;34m()\u001b[0m\n\u001b[0;32m----> 1\u001b[0;31m \u001b[0mdf_wea_order\u001b[0m\u001b[0;34m\u001b[0m\u001b[0;34m\u001b[0m\u001b[0m\n\u001b[0m\u001b[1;32m      2\u001b[0m \u001b[0mdf_org2\u001b[0m \u001b[0;34m=\u001b[0m \u001b[0mpd\u001b[0m\u001b[0;34m.\u001b[0m\u001b[0mread_excel\u001b[0m\u001b[0;34m(\u001b[0m\u001b[0;34m'NAVER_DATERLAB_CATEGORY_1.xlsx'\u001b[0m\u001b[0;34m)\u001b[0m\u001b[0;34m\u001b[0m\u001b[0;34m\u001b[0m\u001b[0m\n\u001b[1;32m      3\u001b[0m \u001b[0mdf2\u001b[0m \u001b[0;34m=\u001b[0m \u001b[0mdf_org2\u001b[0m\u001b[0;34m.\u001b[0m\u001b[0mcopy\u001b[0m\u001b[0;34m(\u001b[0m\u001b[0;34m)\u001b[0m\u001b[0;34m\u001b[0m\u001b[0;34m\u001b[0m\u001b[0m\n",
            "\u001b[0;31mNameError\u001b[0m: name 'df_wea_order' is not defined"
          ]
        }
      ],
      "source": [
        "df_wea_order\n",
        "df_org2 = pd.read_excel('NAVER_DATERLAB_CATEGORY_1.xlsx')\n",
        "df2 = df_org2.copy()"
      ]
    },
    {
      "cell_type": "code",
      "execution_count": null,
      "id": "33c29bf4",
      "metadata": {
        "id": "33c29bf4",
        "outputId": "eb277f10-bdd7-40b5-80b6-a794b8936e78"
      },
      "outputs": [
        {
          "data": {
            "text/plain": [
              "<AxesSubplot:>"
            ]
          },
          "execution_count": 186,
          "metadata": {},
          "output_type": "execute_result"
        },
        {
          "data": {
            "image/png": "[encoded data removed]",
            "text/plain": [
              "<Figure size 720x720 with 2 Axes>"
            ]
          },
          "metadata": {
            "needs_background": "light"
          },
          "output_type": "display_data"
        }
      ],
      "source": [
        "plt.figure(figsize=(10,10))\n",
        "sns.heatmap(data = df2.corr(), annot=True, \n",
        "fmt = '.3f', linewidths=.5, cmap='Blues')"
      ]
    },
    {
      "cell_type": "code",
      "execution_count": null,
      "id": "483385e8",
      "metadata": {
        "id": "483385e8",
        "outputId": "57953172-004e-4c01-e4dd-1f154e018459"
      },
      "outputs": [
        {
          "data": {
            "text/html": [
              "<div>\n",
              "<style scoped>\n",
              "    .dataframe tbody tr th:only-of-type {\n",
              "        vertical-align: middle;\n",
              "    }\n",
              "\n",
              "    .dataframe tbody tr th {\n",
              "        vertical-align: top;\n",
              "    }\n",
              "\n",
              "    .dataframe thead th {\n",
              "        text-align: right;\n",
              "    }\n",
              "</style>\n",
              "<table border=\"1\" class=\"dataframe\">\n",
              "  <thead>\n",
              "    <tr style=\"text-align: right;\">\n",
              "      <th></th>\n",
              "      <th>화장품/미용</th>\n",
              "      <th>출산/육아</th>\n",
              "      <th>생활/건강</th>\n",
              "      <th>식품</th>\n",
              "      <th>패션의류</th>\n",
              "      <th>패션잡화</th>\n",
              "      <th>디지털/가전</th>\n",
              "      <th>가구/인테리어</th>\n",
              "      <th>스포츠/레저</th>\n",
              "      <th>여가/생활편의</th>\n",
              "    </tr>\n",
              "    <tr>\n",
              "      <th>날짜</th>\n",
              "      <th></th>\n",
              "      <th></th>\n",
              "      <th></th>\n",
              "      <th></th>\n",
              "      <th></th>\n",
              "      <th></th>\n",
              "      <th></th>\n",
              "      <th></th>\n",
              "      <th></th>\n",
              "      <th></th>\n",
              "    </tr>\n",
              "  </thead>\n",
              "  <tbody>\n",
              "    <tr>\n",
              "      <th>2021-03-01</th>\n",
              "      <td>21.0</td>\n",
              "      <td>55.0</td>\n",
              "      <td>100.0</td>\n",
              "      <td>39.0</td>\n",
              "      <td>86.0</td>\n",
              "      <td>83.0</td>\n",
              "      <td>75.0</td>\n",
              "      <td>51.0</td>\n",
              "      <td>45.0</td>\n",
              "      <td>3.0</td>\n",
              "    </tr>\n",
              "    <tr>\n",
              "      <th>2021-03-02</th>\n",
              "      <td>19.0</td>\n",
              "      <td>49.0</td>\n",
              "      <td>91.0</td>\n",
              "      <td>37.0</td>\n",
              "      <td>61.0</td>\n",
              "      <td>62.0</td>\n",
              "      <td>67.0</td>\n",
              "      <td>39.0</td>\n",
              "      <td>36.0</td>\n",
              "      <td>3.0</td>\n",
              "    </tr>\n",
              "    <tr>\n",
              "      <th>2021-03-03</th>\n",
              "      <td>18.0</td>\n",
              "      <td>47.0</td>\n",
              "      <td>87.0</td>\n",
              "      <td>35.0</td>\n",
              "      <td>61.0</td>\n",
              "      <td>59.0</td>\n",
              "      <td>63.0</td>\n",
              "      <td>36.0</td>\n",
              "      <td>35.0</td>\n",
              "      <td>3.0</td>\n",
              "    </tr>\n",
              "    <tr>\n",
              "      <th>2021-03-04</th>\n",
              "      <td>18.0</td>\n",
              "      <td>47.0</td>\n",
              "      <td>85.0</td>\n",
              "      <td>35.0</td>\n",
              "      <td>63.0</td>\n",
              "      <td>59.0</td>\n",
              "      <td>63.0</td>\n",
              "      <td>36.0</td>\n",
              "      <td>34.0</td>\n",
              "      <td>3.0</td>\n",
              "    </tr>\n",
              "    <tr>\n",
              "      <th>2021-03-05</th>\n",
              "      <td>15.0</td>\n",
              "      <td>40.0</td>\n",
              "      <td>74.0</td>\n",
              "      <td>29.0</td>\n",
              "      <td>58.0</td>\n",
              "      <td>54.0</td>\n",
              "      <td>56.0</td>\n",
              "      <td>31.0</td>\n",
              "      <td>31.0</td>\n",
              "      <td>3.0</td>\n",
              "    </tr>\n",
              "  </tbody>\n",
              "</table>\n",
              "</div>"
            ],
            "text/plain": [
              "            화장품/미용  출산/육아  생활/건강    식품  패션의류  패션잡화  디지털/가전  가구/인테리어  스포츠/레저  \\\n",
              "날짜                                                                            \n",
              "2021-03-01    21.0   55.0  100.0  39.0  86.0  83.0    75.0     51.0    45.0   \n",
              "2021-03-02    19.0   49.0   91.0  37.0  61.0  62.0    67.0     39.0    36.0   \n",
              "2021-03-03    18.0   47.0   87.0  35.0  61.0  59.0    63.0     36.0    35.0   \n",
              "2021-03-04    18.0   47.0   85.0  35.0  63.0  59.0    63.0     36.0    34.0   \n",
              "2021-03-05    15.0   40.0   74.0  29.0  58.0  54.0    56.0     31.0    31.0   \n",
              "\n",
              "            여가/생활편의  \n",
              "날짜                   \n",
              "2021-03-01      3.0  \n",
              "2021-03-02      3.0  \n",
              "2021-03-03      3.0  \n",
              "2021-03-04      3.0  \n",
              "2021-03-05      3.0  "
            ]
          },
          "execution_count": 187,
          "metadata": {},
          "output_type": "execute_result"
        }
      ],
      "source": [
        "df2.set_index('날짜', inplace = True)\n",
        "df2.head()"
      ]
    },
    {
      "cell_type": "code",
      "execution_count": null,
      "id": "3287f679",
      "metadata": {
        "id": "3287f679",
        "outputId": "236ff819-de21-4f39-bcb7-9d127d81b129"
      },
      "outputs": [
        {
          "data": {
            "text/plain": [
              "(1700.6342003446177, 0.0)"
            ]
          },
          "execution_count": 188,
          "metadata": {},
          "output_type": "execute_result"
        }
      ],
      "source": [
        "chi_square_value, p_value = calculate_bartlett_sphericity(df2)\n",
        "chi_square_value, p_value"
      ]
    },
    {
      "cell_type": "code",
      "execution_count": null,
      "id": "23783b9a",
      "metadata": {
        "id": "23783b9a",
        "outputId": "977a3753-df75-4140-94c4-dd66ac74a255"
      },
      "outputs": [
        {
          "data": {
            "text/plain": [
              "0.758555876916214"
            ]
          },
          "execution_count": 189,
          "metadata": {},
          "output_type": "execute_result"
        }
      ],
      "source": [
        "#KMO 검정 : 0.75로 우수한 데이터 \n",
        "from factor_analyzer.factor_analyzer import calculate_kmo\n",
        "kmo_all, kmo_model = calculate_kmo(df2)\n",
        "kmo_model"
      ]
    },
    {
      "cell_type": "code",
      "execution_count": null,
      "id": "43b4fba7",
      "metadata": {
        "id": "43b4fba7",
        "outputId": "7b7bd052-71b4-4f9e-d148-ff5637b9f398"
      },
      "outputs": [
        {
          "data": {
            "text/plain": [
              "FactorAnalyzer(n_factors=10, rotation=None, rotation_kwargs={})"
            ]
          },
          "execution_count": 190,
          "metadata": {},
          "output_type": "execute_result"
        }
      ],
      "source": [
        "#요인 수 선택\n",
        "fa = FactorAnalyzer(n_factors=10, rotation=None)\n",
        "fa.fit(df2)"
      ]
    },
    {
      "cell_type": "code",
      "execution_count": null,
      "id": "db5f9806",
      "metadata": {
        "id": "db5f9806",
        "outputId": "245d668e-976f-43b4-8e55-d0d554b0b0a4"
      },
      "outputs": [
        {
          "data": {
            "text/plain": [
              "array([5.76570573, 2.00204142, 1.25864029, 0.42098425, 0.20713398,\n",
              "       0.12415287, 0.10754132, 0.06707181, 0.03282592, 0.01390241])"
            ]
          },
          "execution_count": 191,
          "metadata": {},
          "output_type": "execute_result"
        }
      ],
      "source": [
        "ev, v = fa.get_eigenvalues()\n",
        "ev"
      ]
    },
    {
      "cell_type": "code",
      "execution_count": null,
      "id": "496cfcc6",
      "metadata": {
        "id": "496cfcc6",
        "outputId": "5eae0ee6-140b-48b3-ee40-d972eb590dac"
      },
      "outputs": [
        {
          "data": {
            "image/png": "[encoded data removed]",
            "text/plain": [
              "<Figure size 432x288 with 1 Axes>"
            ]
          },
          "metadata": {
            "needs_background": "light"
          },
          "output_type": "display_data"
        }
      ],
      "source": [
        "plt.scatter(range(1, df2.shape[1]+1), ev)\n",
        "plt.plot(range(1, df2.shape[1]+1), ev)\n",
        "plt.title('Scree Plot')\n",
        "plt.xlabel('Factors')\n",
        "plt.ylabel('Eigenvalue')\n",
        "plt.grid()\n",
        "plt.show()\n",
        "#eigen값 1 이상일 때까지 or 기울기 완만하기 전까지 "
      ]
    },
    {
      "cell_type": "code",
      "execution_count": null,
      "id": "4bdf4392",
      "metadata": {
        "id": "4bdf4392",
        "outputId": "b2748aaa-2a2c-4196-9616-69bf9fd9ff7c"
      },
      "outputs": [
        {
          "data": {
            "text/plain": [
              "FactorAnalyzer(rotation=None, rotation_kwargs={})"
            ]
          },
          "execution_count": 193,
          "metadata": {},
          "output_type": "execute_result"
        }
      ],
      "source": [
        "#요인수 3개로 선택 \n",
        "fa = FactorAnalyzer(n_factors=3, rotation=None)\n",
        "fa.fit(df2)"
      ]
    },
    {
      "cell_type": "code",
      "execution_count": null,
      "id": "772277a0",
      "metadata": {
        "id": "772277a0",
        "outputId": "3cdb87cf-5de4-43e4-d276-9bec799aa562"
      },
      "outputs": [
        {
          "data": {
            "text/html": [
              "<div>\n",
              "<style scoped>\n",
              "    .dataframe tbody tr th:only-of-type {\n",
              "        vertical-align: middle;\n",
              "    }\n",
              "\n",
              "    .dataframe tbody tr th {\n",
              "        vertical-align: top;\n",
              "    }\n",
              "\n",
              "    .dataframe thead th {\n",
              "        text-align: right;\n",
              "    }\n",
              "</style>\n",
              "<table border=\"1\" class=\"dataframe\">\n",
              "  <thead>\n",
              "    <tr style=\"text-align: right;\">\n",
              "      <th></th>\n",
              "      <th>0</th>\n",
              "      <th>1</th>\n",
              "      <th>2</th>\n",
              "    </tr>\n",
              "  </thead>\n",
              "  <tbody>\n",
              "    <tr>\n",
              "      <th>화장품/미용</th>\n",
              "      <td>0.845308</td>\n",
              "      <td>0.112996</td>\n",
              "      <td>0.317174</td>\n",
              "    </tr>\n",
              "    <tr>\n",
              "      <th>출산/육아</th>\n",
              "      <td>0.751863</td>\n",
              "      <td>-0.444661</td>\n",
              "      <td>0.008940</td>\n",
              "    </tr>\n",
              "    <tr>\n",
              "      <th>생활/건강</th>\n",
              "      <td>0.909406</td>\n",
              "      <td>-0.331056</td>\n",
              "      <td>0.255021</td>\n",
              "    </tr>\n",
              "    <tr>\n",
              "      <th>식품</th>\n",
              "      <td>0.738321</td>\n",
              "      <td>-0.093044</td>\n",
              "      <td>0.604290</td>\n",
              "    </tr>\n",
              "    <tr>\n",
              "      <th>패션의류</th>\n",
              "      <td>0.763690</td>\n",
              "      <td>0.174321</td>\n",
              "      <td>-0.546183</td>\n",
              "    </tr>\n",
              "    <tr>\n",
              "      <th>패션잡화</th>\n",
              "      <td>0.733410</td>\n",
              "      <td>0.553926</td>\n",
              "      <td>-0.356814</td>\n",
              "    </tr>\n",
              "    <tr>\n",
              "      <th>디지털/가전</th>\n",
              "      <td>0.882935</td>\n",
              "      <td>-0.104929</td>\n",
              "      <td>-0.094637</td>\n",
              "    </tr>\n",
              "    <tr>\n",
              "      <th>가구/인테리어</th>\n",
              "      <td>0.939209</td>\n",
              "      <td>-0.112387</td>\n",
              "      <td>-0.261677</td>\n",
              "    </tr>\n",
              "    <tr>\n",
              "      <th>스포츠/레저</th>\n",
              "      <td>0.440416</td>\n",
              "      <td>0.866030</td>\n",
              "      <td>0.232294</td>\n",
              "    </tr>\n",
              "    <tr>\n",
              "      <th>여가/생활편의</th>\n",
              "      <td>-0.182528</td>\n",
              "      <td>0.624705</td>\n",
              "      <td>0.257938</td>\n",
              "    </tr>\n",
              "  </tbody>\n",
              "</table>\n",
              "</div>"
            ],
            "text/plain": [
              "                0         1         2\n",
              "화장품/미용   0.845308  0.112996  0.317174\n",
              "출산/육아    0.751863 -0.444661  0.008940\n",
              "생활/건강    0.909406 -0.331056  0.255021\n",
              "식품       0.738321 -0.093044  0.604290\n",
              "패션의류     0.763690  0.174321 -0.546183\n",
              "패션잡화     0.733410  0.553926 -0.356814\n",
              "디지털/가전   0.882935 -0.104929 -0.094637\n",
              "가구/인테리어  0.939209 -0.112387 -0.261677\n",
              "스포츠/레저   0.440416  0.866030  0.232294\n",
              "여가/생활편의 -0.182528  0.624705  0.257938"
            ]
          },
          "execution_count": 194,
          "metadata": {},
          "output_type": "execute_result"
        }
      ],
      "source": [
        "efa_result = pd.DataFrame(fa.loadings_, index=df2.columns)\n",
        "efa_result"
      ]
    },
    {
      "cell_type": "code",
      "execution_count": null,
      "id": "0c72cb74",
      "metadata": {
        "id": "0c72cb74",
        "outputId": "45dd6d41-3fc9-4e46-a9bf-1d901b51226b"
      },
      "outputs": [
        {
          "data": {
            "image/png": "[encoded data removed]",
            "text/plain": [
              "<Figure size 720x360 with 2 Axes>"
            ]
          },
          "metadata": {
            "needs_background": "light"
          },
          "output_type": "display_data"
        }
      ],
      "source": [
        "plt.figure(figsize=(10, 5))\n",
        "sns.heatmap(efa_result, cmap=\"Blues\", annot=True, fmt='.2f')\n",
        "plt.show()"
      ]
    },
    {
      "cell_type": "code",
      "execution_count": null,
      "id": "de7802b5",
      "metadata": {
        "id": "de7802b5",
        "outputId": "de0cc816-899b-4fb8-da7e-99f74ddc4d82"
      },
      "outputs": [
        {
          "data": {
            "text/plain": [
              "FactorAnalyzer(rotation='varimax', rotation_kwargs={})"
            ]
          },
          "execution_count": 196,
          "metadata": {},
          "output_type": "execute_result"
        }
      ],
      "source": [
        "#최대우도 방법 선택 \n",
        "fa_1 = FactorAnalyzer(n_factors=3, rotation=\"varimax\")\n",
        "fa_1.fit(df2)"
      ]
    },
    {
      "cell_type": "code",
      "execution_count": null,
      "id": "bcf2bf29",
      "metadata": {
        "id": "bcf2bf29",
        "outputId": "6610bd91-c409-41d9-8e76-6de5dced8a0b"
      },
      "outputs": [
        {
          "data": {
            "text/html": [
              "<div>\n",
              "<style scoped>\n",
              "    .dataframe tbody tr th:only-of-type {\n",
              "        vertical-align: middle;\n",
              "    }\n",
              "\n",
              "    .dataframe tbody tr th {\n",
              "        vertical-align: top;\n",
              "    }\n",
              "\n",
              "    .dataframe thead th {\n",
              "        text-align: right;\n",
              "    }\n",
              "</style>\n",
              "<table border=\"1\" class=\"dataframe\">\n",
              "  <thead>\n",
              "    <tr style=\"text-align: right;\">\n",
              "      <th></th>\n",
              "      <th>0</th>\n",
              "      <th>1</th>\n",
              "      <th>2</th>\n",
              "    </tr>\n",
              "  </thead>\n",
              "  <tbody>\n",
              "    <tr>\n",
              "      <th>화장품/미용</th>\n",
              "      <td>0.796619</td>\n",
              "      <td>0.367749</td>\n",
              "      <td>0.240981</td>\n",
              "    </tr>\n",
              "    <tr>\n",
              "      <th>출산/육아</th>\n",
              "      <td>0.688252</td>\n",
              "      <td>0.366489</td>\n",
              "      <td>-0.393823</td>\n",
              "    </tr>\n",
              "    <tr>\n",
              "      <th>생활/건강</th>\n",
              "      <td>0.925139</td>\n",
              "      <td>0.330179</td>\n",
              "      <td>-0.191713</td>\n",
              "    </tr>\n",
              "    <tr>\n",
              "      <th>식품</th>\n",
              "      <td>0.944502</td>\n",
              "      <td>0.039493</td>\n",
              "      <td>0.159050</td>\n",
              "    </tr>\n",
              "    <tr>\n",
              "      <th>패션의류</th>\n",
              "      <td>0.197243</td>\n",
              "      <td>0.933694</td>\n",
              "      <td>-0.035174</td>\n",
              "    </tr>\n",
              "    <tr>\n",
              "      <th>패션잡화</th>\n",
              "      <td>0.188126</td>\n",
              "      <td>0.886871</td>\n",
              "      <td>0.387439</td>\n",
              "    </tr>\n",
              "    <tr>\n",
              "      <th>디지털/가전</th>\n",
              "      <td>0.633877</td>\n",
              "      <td>0.619606</td>\n",
              "      <td>-0.117596</td>\n",
              "    </tr>\n",
              "    <tr>\n",
              "      <th>가구/인테리어</th>\n",
              "      <td>0.577174</td>\n",
              "      <td>0.771297</td>\n",
              "      <td>-0.187593</td>\n",
              "    </tr>\n",
              "    <tr>\n",
              "      <th>스포츠/레저</th>\n",
              "      <td>0.241192</td>\n",
              "      <td>0.368851</td>\n",
              "      <td>0.896499</td>\n",
              "    </tr>\n",
              "    <tr>\n",
              "      <th>여가/생활편의</th>\n",
              "      <td>-0.147131</td>\n",
              "      <td>-0.127130</td>\n",
              "      <td>0.672529</td>\n",
              "    </tr>\n",
              "  </tbody>\n",
              "</table>\n",
              "</div>"
            ],
            "text/plain": [
              "                0         1         2\n",
              "화장품/미용   0.796619  0.367749  0.240981\n",
              "출산/육아    0.688252  0.366489 -0.393823\n",
              "생활/건강    0.925139  0.330179 -0.191713\n",
              "식품       0.944502  0.039493  0.159050\n",
              "패션의류     0.197243  0.933694 -0.035174\n",
              "패션잡화     0.188126  0.886871  0.387439\n",
              "디지털/가전   0.633877  0.619606 -0.117596\n",
              "가구/인테리어  0.577174  0.771297 -0.187593\n",
              "스포츠/레저   0.241192  0.368851  0.896499\n",
              "여가/생활편의 -0.147131 -0.127130  0.672529"
            ]
          },
          "execution_count": 197,
          "metadata": {},
          "output_type": "execute_result"
        }
      ],
      "source": [
        "efa_result_1 = pd.DataFrame(fa_1.loadings_, index=df2.columns)\n",
        "efa_result_1"
      ]
    },
    {
      "cell_type": "code",
      "execution_count": null,
      "id": "0bf5010b",
      "metadata": {
        "id": "0bf5010b",
        "outputId": "5c53a436-692b-45e9-e8a5-686d1cea1ac6"
      },
      "outputs": [
        {
          "data": {
            "text/plain": [
              "<AxesSubplot:>"
            ]
          },
          "execution_count": 198,
          "metadata": {},
          "output_type": "execute_result"
        },
        {
          "data": {
            "image/png": "[encoded data removed]",
            "text/plain": [
              "<Figure size 720x360 with 2 Axes>"
            ]
          },
          "metadata": {
            "needs_background": "light"
          },
          "output_type": "display_data"
        }
      ],
      "source": [
        "plt.figure(figsize=(10, 5))\n",
        "sns.heatmap(efa_result_1, cmap=\"Blues\", annot=True, fmt='.2f')"
      ]
    },
    {
      "cell_type": "code",
      "execution_count": null,
      "id": "2f4417c4",
      "metadata": {
        "id": "2f4417c4",
        "outputId": "7f2125a1-0120-47a0-f474-7101b9fe3a97"
      },
      "outputs": [
        {
          "data": {
            "text/html": [
              "<div>\n",
              "<style scoped>\n",
              "    .dataframe tbody tr th:only-of-type {\n",
              "        vertical-align: middle;\n",
              "    }\n",
              "\n",
              "    .dataframe tbody tr th {\n",
              "        vertical-align: top;\n",
              "    }\n",
              "\n",
              "    .dataframe thead th {\n",
              "        text-align: right;\n",
              "    }\n",
              "</style>\n",
              "<table border=\"1\" class=\"dataframe\">\n",
              "  <thead>\n",
              "    <tr style=\"text-align: right;\">\n",
              "      <th></th>\n",
              "      <th>0</th>\n",
              "      <th>1</th>\n",
              "      <th>2</th>\n",
              "    </tr>\n",
              "  </thead>\n",
              "  <tbody>\n",
              "    <tr>\n",
              "      <th>SS Loadings</th>\n",
              "      <td>3.745304</td>\n",
              "      <td>3.169479</td>\n",
              "      <td>1.731591</td>\n",
              "    </tr>\n",
              "    <tr>\n",
              "      <th>Proportion Var</th>\n",
              "      <td>0.374530</td>\n",
              "      <td>0.316948</td>\n",
              "      <td>0.173159</td>\n",
              "    </tr>\n",
              "    <tr>\n",
              "      <th>Cumlative Var</th>\n",
              "      <td>0.374530</td>\n",
              "      <td>0.691478</td>\n",
              "      <td>0.864637</td>\n",
              "    </tr>\n",
              "  </tbody>\n",
              "</table>\n",
              "</div>"
            ],
            "text/plain": [
              "                       0         1         2\n",
              "SS Loadings     3.745304  3.169479  1.731591\n",
              "Proportion Var  0.374530  0.316948  0.173159\n",
              "Cumlative Var   0.374530  0.691478  0.864637"
            ]
          },
          "execution_count": 199,
          "metadata": {},
          "output_type": "execute_result"
        }
      ],
      "source": [
        "fa.get_factor_variance()\n",
        "df2_1 = pd.DataFrame(fa_1.get_factor_variance())\n",
        "\n",
        "df2_1.index=['SS Loadings', 'Proportion Var', 'Cumlative Var']\n",
        "df2_1"
      ]
    },
    {
      "cell_type": "code",
      "execution_count": null,
      "id": "0ed40458",
      "metadata": {
        "id": "0ed40458"
      },
      "outputs": [],
      "source": [
        "wth = df_wea_order.copy()"
      ]
    },
    {
      "cell_type": "code",
      "execution_count": null,
      "id": "55ed37bf",
      "metadata": {
        "id": "55ed37bf"
      },
      "outputs": [],
      "source": [
        "shopping = df_org2.copy()\n",
        "\n",
        "fact1 = [\"화장품/미용\", \"생활/건강\",\"식품\",\"출산/육아\"]\n",
        "fact2 = [\"패션의류\", \"패션잡화\",\"가구인테리어\" ,\"디지털/가전\"]\n",
        "fact3 = [\"스포츠/레저\" , \"여가/생활편의\"]\n",
        "\n",
        "shop_factor = pd.DataFrame({\"BKG_DATE\" : shopping['날짜'],\n",
        "                            \"Healthcare\": shopping.filter(regex=\"|\".join(fact1)).sum(axis=1),\n",
        "                            \"Lifestyle\" : shopping.filter(regex=\"|\".join(fact2)).sum(axis=1),\n",
        "                            \"Leisure\" : shopping.filter(regex=\"|\".join(fact3)).sum(axis=1)})\n",
        "\n",
        "full = pd.merge(wth, shop_factor,on=['BKG_DATE'])"
      ]
    },
    {
      "cell_type": "code",
      "execution_count": null,
      "id": "99390657",
      "metadata": {
        "id": "99390657"
      },
      "outputs": [],
      "source": [
        "cl = pd.DataFrame({\"BKG_DATE\" :full[\"BKG_DATE\"],\n",
        "                   \"ITEM_QTY\":full[\"ITEM_QTY\"],\n",
        "                   \"SHPR_CD\" : full['SHPR_CD'],\n",
        "                   \"ITEM_CD\" : full['ITEM_CD'],\n",
        "                   \"Weather\" : full['날씨지수'],\n",
        "                   \"Healthcare\": full['Healthcare'],\n",
        "                   \"Lifestyle\" : full['Lifestyle'],\n",
        "                   \"Leisure\" : full['Leisure'],\n",
        "                   \"Day\": full['day']})"
      ]
    },
    {
      "cell_type": "code",
      "execution_count": null,
      "id": "a4bf7652",
      "metadata": {
        "id": "a4bf7652",
        "outputId": "661afccd-c1dc-4afd-aa63-f87e5c718166"
      },
      "outputs": [
        {
          "data": {
            "text/html": [
              "<div>\n",
              "<style scoped>\n",
              "    .dataframe tbody tr th:only-of-type {\n",
              "        vertical-align: middle;\n",
              "    }\n",
              "\n",
              "    .dataframe tbody tr th {\n",
              "        vertical-align: top;\n",
              "    }\n",
              "\n",
              "    .dataframe thead th {\n",
              "        text-align: right;\n",
              "    }\n",
              "</style>\n",
              "<table border=\"1\" class=\"dataframe\">\n",
              "  <thead>\n",
              "    <tr style=\"text-align: right;\">\n",
              "      <th></th>\n",
              "      <th>BKG_DATE</th>\n",
              "      <th>ITEM_QTY</th>\n",
              "      <th>SHPR_CD</th>\n",
              "      <th>ITEM_CD</th>\n",
              "      <th>Weather</th>\n",
              "      <th>Healthcare</th>\n",
              "      <th>Lifestyle</th>\n",
              "      <th>Leisure</th>\n",
              "      <th>Day</th>\n",
              "    </tr>\n",
              "  </thead>\n",
              "  <tbody>\n",
              "    <tr>\n",
              "      <th>0</th>\n",
              "      <td>2021-03-03</td>\n",
              "      <td>1</td>\n",
              "      <td>90001302</td>\n",
              "      <td>134265392</td>\n",
              "      <td>3.0</td>\n",
              "      <td>187.0</td>\n",
              "      <td>183.0</td>\n",
              "      <td>38.0</td>\n",
              "      <td>2</td>\n",
              "    </tr>\n",
              "    <tr>\n",
              "      <th>1</th>\n",
              "      <td>2021-03-03</td>\n",
              "      <td>1</td>\n",
              "      <td>90001542</td>\n",
              "      <td>3858391637</td>\n",
              "      <td>3.0</td>\n",
              "      <td>187.0</td>\n",
              "      <td>183.0</td>\n",
              "      <td>38.0</td>\n",
              "      <td>2</td>\n",
              "    </tr>\n",
              "    <tr>\n",
              "      <th>2</th>\n",
              "      <td>2021-03-03</td>\n",
              "      <td>1</td>\n",
              "      <td>90001341</td>\n",
              "      <td>5161458796</td>\n",
              "      <td>3.0</td>\n",
              "      <td>187.0</td>\n",
              "      <td>183.0</td>\n",
              "      <td>38.0</td>\n",
              "      <td>2</td>\n",
              "    </tr>\n",
              "    <tr>\n",
              "      <th>3</th>\n",
              "      <td>2021-03-03</td>\n",
              "      <td>1</td>\n",
              "      <td>90001441</td>\n",
              "      <td>4624200932</td>\n",
              "      <td>3.0</td>\n",
              "      <td>187.0</td>\n",
              "      <td>183.0</td>\n",
              "      <td>38.0</td>\n",
              "      <td>2</td>\n",
              "    </tr>\n",
              "    <tr>\n",
              "      <th>4</th>\n",
              "      <td>2021-03-03</td>\n",
              "      <td>1</td>\n",
              "      <td>90001541</td>\n",
              "      <td>4929464978</td>\n",
              "      <td>3.0</td>\n",
              "      <td>187.0</td>\n",
              "      <td>183.0</td>\n",
              "      <td>38.0</td>\n",
              "      <td>2</td>\n",
              "    </tr>\n",
              "  </tbody>\n",
              "</table>\n",
              "</div>"
            ],
            "text/plain": [
              "    BKG_DATE  ITEM_QTY   SHPR_CD     ITEM_CD  Weather  Healthcare  Lifestyle  \\\n",
              "0 2021-03-03         1  90001302   134265392      3.0       187.0      183.0   \n",
              "1 2021-03-03         1  90001542  3858391637      3.0       187.0      183.0   \n",
              "2 2021-03-03         1  90001341  5161458796      3.0       187.0      183.0   \n",
              "3 2021-03-03         1  90001441  4624200932      3.0       187.0      183.0   \n",
              "4 2021-03-03         1  90001541  4929464978      3.0       187.0      183.0   \n",
              "\n",
              "   Leisure Day  \n",
              "0     38.0   2  \n",
              "1     38.0   2  \n",
              "2     38.0   2  \n",
              "3     38.0   2  \n",
              "4     38.0   2  "
            ]
          },
          "execution_count": 204,
          "metadata": {},
          "output_type": "execute_result"
        }
      ],
      "source": [
        "cl.head()"
      ]
    },
    {
      "cell_type": "code",
      "execution_count": null,
      "id": "ce499575",
      "metadata": {
        "id": "ce499575"
      },
      "outputs": [],
      "source": [
        "df = cl[['Weather', 'Healthcare', 'Lifestyle', 'Leisure','Day']].copy()"
      ]
    },
    {
      "cell_type": "code",
      "execution_count": null,
      "id": "155e9ddb",
      "metadata": {
        "id": "155e9ddb"
      },
      "outputs": [],
      "source": [
        "#표준정규분포를 활용한 Normalization 수행\n",
        "data = (df-np.mean(df,axis=0))/np.std(df,axis=0)\n"
      ]
    },
    {
      "cell_type": "code",
      "execution_count": null,
      "id": "98fcaab0",
      "metadata": {
        "id": "98fcaab0"
      },
      "outputs": [],
      "source": [
        "from minisom import MiniSom\n",
        "\n",
        "from tqdm import tqdm, tqdm_notebook, tnrange\n",
        "import time"
      ]
    },
    {
      "cell_type": "code",
      "execution_count": null,
      "id": "4468441f",
      "metadata": {
        "colab": {
          "referenced_widgets": [
            "5f7af9ee490e4f8dbe49f5d5e711e60c",
            "8ec63407da9c40b7ad161186a4911192",
            "03226b1da3444eef9ec5bfb10cecacbf",
            "1498d745e47747f6b440c095625c1601",
            "5e74a24233334c4aa522fb926a4b87b8",
            "be54d466b82e47df9c8a47e945dff23b",
            "4b405c1a93b04916801b3456e8bbfe3e",
            "f4643342aafe436180e3d2c64c6ab679",
            "1dd2e8dc72bd44b090f247e8dca00a6b"
          ]
        },
        "id": "4468441f",
        "outputId": "f2ac6b51-007f-41cb-83a4-cc49de970750",
        "scrolled": true
      },
      "outputs": [
        {
          "name": "stdout",
          "output_type": "stream",
          "text": [
            "시작시간: 2021-10-28 10:19:54.352853 \n",
            "\n"
          ]
        },
        {
          "data": {
            "application/vnd.jupyter.widget-view+json": {
              "model_id": "5f7af9ee490e4f8dbe49f5d5e711e60c",
              "version_major": 2,
              "version_minor": 0
            },
            "text/plain": [
              "first:   0%|          | 0/4 [00:00<?, ?it/s]"
            ]
          },
          "metadata": {},
          "output_type": "display_data"
        },
        {
          "data": {
            "application/vnd.jupyter.widget-view+json": {
              "model_id": "8ec63407da9c40b7ad161186a4911192",
              "version_major": 2,
              "version_minor": 0
            },
            "text/plain": [
              "second:   0%|          | 0/9 [00:00<?, ?it/s]"
            ]
          },
          "metadata": {},
          "output_type": "display_data"
        },
        {
          "data": {
            "application/vnd.jupyter.widget-view+json": {
              "model_id": "03226b1da3444eef9ec5bfb10cecacbf",
              "version_major": 2,
              "version_minor": 0
            },
            "text/plain": [
              "third:   0%|          | 0/9 [00:00<?, ?it/s]"
            ]
          },
          "metadata": {},
          "output_type": "display_data"
        },
        {
          "data": {
            "application/vnd.jupyter.widget-view+json": {
              "model_id": "1498d745e47747f6b440c095625c1601",
              "version_major": 2,
              "version_minor": 0
            },
            "text/plain": [
              "third:   0%|          | 0/9 [00:00<?, ?it/s]"
            ]
          },
          "metadata": {},
          "output_type": "display_data"
        },
        {
          "data": {
            "application/vnd.jupyter.widget-view+json": {
              "model_id": "5e74a24233334c4aa522fb926a4b87b8",
              "version_major": 2,
              "version_minor": 0
            },
            "text/plain": [
              "third:   0%|          | 0/9 [00:00<?, ?it/s]"
            ]
          },
          "metadata": {},
          "output_type": "display_data"
        },
        {
          "data": {
            "application/vnd.jupyter.widget-view+json": {
              "model_id": "be54d466b82e47df9c8a47e945dff23b",
              "version_major": 2,
              "version_minor": 0
            },
            "text/plain": [
              "third:   0%|          | 0/9 [00:00<?, ?it/s]"
            ]
          },
          "metadata": {},
          "output_type": "display_data"
        },
        {
          "data": {
            "application/vnd.jupyter.widget-view+json": {
              "model_id": "4b405c1a93b04916801b3456e8bbfe3e",
              "version_major": 2,
              "version_minor": 0
            },
            "text/plain": [
              "third:   0%|          | 0/9 [00:00<?, ?it/s]"
            ]
          },
          "metadata": {},
          "output_type": "display_data"
        },
        {
          "data": {
            "application/vnd.jupyter.widget-view+json": {
              "model_id": "f4643342aafe436180e3d2c64c6ab679",
              "version_major": 2,
              "version_minor": 0
            },
            "text/plain": [
              "third:   0%|          | 0/9 [00:00<?, ?it/s]"
            ]
          },
          "metadata": {},
          "output_type": "display_data"
        },
        {
          "data": {
            "application/vnd.jupyter.widget-view+json": {
              "model_id": "1dd2e8dc72bd44b090f247e8dca00a6b",
              "version_major": 2,
              "version_minor": 0
            },
            "text/plain": [
              "third:   0%|          | 0/9 [00:00<?, ?it/s]"
            ]
          },
          "metadata": {},
          "output_type": "display_data"
        },
        {
          "ename": "KeyboardInterrupt",
          "evalue": "",
          "output_type": "error",
          "traceback": [
            "\u001b[1;31m---------------------------------------------------------------------------\u001b[0m",
            "\u001b[1;31mKeyboardInterrupt\u001b[0m                         Traceback (most recent call last)",
            "\u001b[1;32m~\\AppData\\Local\\Temp/ipykernel_4388/3836490970.py\u001b[0m in \u001b[0;36m<module>\u001b[1;34m\u001b[0m\n\u001b[0;32m     19\u001b[0m                 \u001b[0mestimator\u001b[0m\u001b[1;33m.\u001b[0m\u001b[0mrandom_weights_init\u001b[0m\u001b[1;33m(\u001b[0m\u001b[0mdata\u001b[0m\u001b[1;33m.\u001b[0m\u001b[0mvalues\u001b[0m\u001b[1;33m)\u001b[0m\u001b[1;33m\u001b[0m\u001b[1;33m\u001b[0m\u001b[0m\n\u001b[0;32m     20\u001b[0m                 \u001b[0mestimator\u001b[0m\u001b[1;33m.\u001b[0m\u001b[0mtrain\u001b[0m\u001b[1;33m(\u001b[0m\u001b[0mdata\u001b[0m\u001b[1;33m.\u001b[0m\u001b[0mvalues\u001b[0m\u001b[1;33m,\u001b[0m\u001b[1;36m1000\u001b[0m\u001b[1;33m,\u001b[0m\u001b[0mrandom_order\u001b[0m\u001b[1;33m=\u001b[0m\u001b[1;32mTrue\u001b[0m\u001b[1;33m)\u001b[0m\u001b[1;33m\u001b[0m\u001b[1;33m\u001b[0m\u001b[0m\n\u001b[1;32m---> 21\u001b[1;33m                 \u001b[0mqe\u001b[0m \u001b[1;33m=\u001b[0m \u001b[0mestimator\u001b[0m\u001b[1;33m.\u001b[0m\u001b[0mquantization_error\u001b[0m\u001b[1;33m(\u001b[0m\u001b[0mdata\u001b[0m\u001b[1;33m.\u001b[0m\u001b[0mvalues\u001b[0m\u001b[1;33m)\u001b[0m\u001b[1;33m\u001b[0m\u001b[1;33m\u001b[0m\u001b[0m\n\u001b[0m\u001b[0;32m     22\u001b[0m                 \u001b[1;31m#te = estimator.topographic_error(data.values)\u001b[0m\u001b[1;33m\u001b[0m\u001b[1;33m\u001b[0m\u001b[1;33m\u001b[0m\u001b[0m\n\u001b[0;32m     23\u001b[0m                 \u001b[0mwinner_coordinates\u001b[0m \u001b[1;33m=\u001b[0m \u001b[0mnp\u001b[0m\u001b[1;33m.\u001b[0m\u001b[0marray\u001b[0m\u001b[1;33m(\u001b[0m\u001b[1;33m[\u001b[0m\u001b[0mestimator\u001b[0m\u001b[1;33m.\u001b[0m\u001b[0mwinner\u001b[0m\u001b[1;33m(\u001b[0m\u001b[0mx\u001b[0m\u001b[1;33m)\u001b[0m \u001b[1;32mfor\u001b[0m \u001b[0mx\u001b[0m \u001b[1;32min\u001b[0m \u001b[0mdata\u001b[0m\u001b[1;33m.\u001b[0m\u001b[0mvalues\u001b[0m\u001b[1;33m]\u001b[0m\u001b[1;33m)\u001b[0m\u001b[1;33m.\u001b[0m\u001b[0mT\u001b[0m\u001b[1;33m\u001b[0m\u001b[1;33m\u001b[0m\u001b[0m\n",
            "\u001b[1;32mC:\\Anaconda3\\lib\\site-packages\\minisom.py\u001b[0m in \u001b[0;36mquantization_error\u001b[1;34m(self, data)\u001b[0m\n\u001b[0;32m    490\u001b[0m         distance between each input sample and its best matching unit.\"\"\"\n\u001b[0;32m    491\u001b[0m         \u001b[0mself\u001b[0m\u001b[1;33m.\u001b[0m\u001b[0m_check_input_len\u001b[0m\u001b[1;33m(\u001b[0m\u001b[0mdata\u001b[0m\u001b[1;33m)\u001b[0m\u001b[1;33m\u001b[0m\u001b[1;33m\u001b[0m\u001b[0m\n\u001b[1;32m--> 492\u001b[1;33m         \u001b[1;32mreturn\u001b[0m \u001b[0mnorm\u001b[0m\u001b[1;33m(\u001b[0m\u001b[0mdata\u001b[0m\u001b[1;33m-\u001b[0m\u001b[0mself\u001b[0m\u001b[1;33m.\u001b[0m\u001b[0mquantization\u001b[0m\u001b[1;33m(\u001b[0m\u001b[0mdata\u001b[0m\u001b[1;33m)\u001b[0m\u001b[1;33m,\u001b[0m \u001b[0maxis\u001b[0m\u001b[1;33m=\u001b[0m\u001b[1;36m1\u001b[0m\u001b[1;33m)\u001b[0m\u001b[1;33m.\u001b[0m\u001b[0mmean\u001b[0m\u001b[1;33m(\u001b[0m\u001b[1;33m)\u001b[0m\u001b[1;33m\u001b[0m\u001b[1;33m\u001b[0m\u001b[0m\n\u001b[0m\u001b[0;32m    493\u001b[0m \u001b[1;33m\u001b[0m\u001b[0m\n\u001b[0;32m    494\u001b[0m     \u001b[1;32mdef\u001b[0m \u001b[0mtopographic_error\u001b[0m\u001b[1;33m(\u001b[0m\u001b[0mself\u001b[0m\u001b[1;33m,\u001b[0m \u001b[0mdata\u001b[0m\u001b[1;33m)\u001b[0m\u001b[1;33m:\u001b[0m\u001b[1;33m\u001b[0m\u001b[1;33m\u001b[0m\u001b[0m\n",
            "\u001b[1;32mC:\\Anaconda3\\lib\\site-packages\\minisom.py\u001b[0m in \u001b[0;36mquantization\u001b[1;34m(self, data)\u001b[0m\n\u001b[0;32m    334\u001b[0m         \u001b[0mself\u001b[0m\u001b[1;33m.\u001b[0m\u001b[0m_check_input_len\u001b[0m\u001b[1;33m(\u001b[0m\u001b[0mdata\u001b[0m\u001b[1;33m)\u001b[0m\u001b[1;33m\u001b[0m\u001b[1;33m\u001b[0m\u001b[0m\n\u001b[0;32m    335\u001b[0m         \u001b[0mwinners_coords\u001b[0m \u001b[1;33m=\u001b[0m \u001b[0margmin\u001b[0m\u001b[1;33m(\u001b[0m\u001b[0mself\u001b[0m\u001b[1;33m.\u001b[0m\u001b[0m_distance_from_weights\u001b[0m\u001b[1;33m(\u001b[0m\u001b[0mdata\u001b[0m\u001b[1;33m)\u001b[0m\u001b[1;33m,\u001b[0m \u001b[0maxis\u001b[0m\u001b[1;33m=\u001b[0m\u001b[1;36m1\u001b[0m\u001b[1;33m)\u001b[0m\u001b[1;33m\u001b[0m\u001b[1;33m\u001b[0m\u001b[0m\n\u001b[1;32m--> 336\u001b[1;33m         return self._weights[unravel_index(winners_coords,\n\u001b[0m\u001b[0;32m    337\u001b[0m                                            self._weights.shape[:2])]\n\u001b[0;32m    338\u001b[0m \u001b[1;33m\u001b[0m\u001b[0m\n",
            "\u001b[1;31mKeyboardInterrupt\u001b[0m: "
          ]
        }
      ],
      "source": [
        "s_time = pd.Timestamp.now()\n",
        "print('시작시간:',s_time,'\\n')\n",
        "\n",
        "#원하는 파라미터 조합 리스트화\n",
        "map_n= [n for n in range(2,6)]\n",
        "para_sigma= [np.round(sigma*0.1,2) for sigma in range(1,10)]\n",
        "para_learning_rate= [np.round(learning_rate*0.1,2) for learning_rate in range(1,10)]\n",
        "\n",
        "#결과 값을 담을 리스트 res 생성\n",
        "res = []\n",
        "#모든 조합에 대해 모델 생성 및 qe,te값 계산\n",
        "for n in tqdm_notebook(map_n, desc = 'first'):\n",
        "    for sigma in tqdm_notebook(para_sigma, desc = 'second'):\n",
        "        for lr in tqdm_notebook(para_learning_rate, desc='third'):\n",
        "            time.sleep(0.01)\n",
        "            try:\n",
        "                #랜덤으로 초기값을 설정하는 경우\n",
        "                estimator = MiniSom(n,n,5,sigma =sigma, learning_rate = lr, topology='hexagonal',random_seed=0)\n",
        "                estimator.random_weights_init(data.values)\n",
        "                estimator.train(data.values,1000,random_order=True)\n",
        "                qe = estimator.quantization_error(data.values)\n",
        "                #te = estimator.topographic_error(data.values)\n",
        "                winner_coordinates = np.array([estimator.winner(x) for x in data.values]).T\n",
        "                cluster_index = np.ravel_multi_index(winner_coordinates,(n,n))\n",
        "                \n",
        "                res.append([str(n)+'x'+str(n),sigma,lr,'random_init',qe,len(np.unique(cluster_index))])\n",
        "\n",
        "                #pca로 초기값을 설정하는 경우\n",
        "                estimator = MiniSom(n,n,5,sigma =sigma, learning_rate = lr,topology='hexagonal', random_seed=0)\n",
        "                estimator.pca_weights_init(data.values)\n",
        "                estimator.train(data.values,1000,random_order=True)\n",
        "                qe = estimator.quantization_error(data.values)\n",
        "                #te = estimator.topographic_error(data.values)\n",
        "                winner_coordinates = np.array([estimator.winner(x) for x in data.values]).T\n",
        "                cluster_index = np.ravel_multi_index(winner_coordinates,(n,n))\n",
        "                \n",
        "                res.append([str(n)+'x'+str(n),sigma,lr,'pca_init',qe,len(np.unique(cluster_index))])\n",
        "                \n",
        "            except ValueError as e:\n",
        "                print(e)\n",
        "            \n",
        "#결과 데이터프레임 생성 및 sorting \n",
        "df_res = pd.DataFrame(res,columns=['map_size','sigma','learning_rate','init_method','qe','n_cluster']) \n",
        "df_res.shape\n",
        "df_res.sort_values(by=['qe'],ascending=True,inplace=True,ignore_index=True)\n",
        "df_res.head(10)\n",
        "\n",
        "#시각화를 위한 lineplot 생성\n",
        "plt.figure(figsize=(20,10))\n",
        "sns.lineplot(data = df_res)\n",
        "\n",
        "e_time = pd.Timestamp.now()\n",
        "print('\\n종료시간:',e_time,'\\n총 소요시간:',e_time-s_time)"
      ]
    },
    {
      "cell_type": "code",
      "execution_count": null,
      "id": "319148d5",
      "metadata": {
        "id": "319148d5"
      },
      "outputs": [],
      "source": [
        "df_res.head()"
      ]
    },
    {
      "cell_type": "markdown",
      "id": "7dd12fbb",
      "metadata": {
        "id": "7dd12fbb"
      },
      "source": [
        "# 모델 파라미터 조정 "
      ]
    },
    {
      "cell_type": "code",
      "execution_count": null,
      "id": "19b153e2",
      "metadata": {
        "id": "19b153e2"
      },
      "outputs": [],
      "source": [
        "#앞서 클러스터 개수가 16이면서 qe값이 가장 작게 나온 파라미터로 모델링 \n",
        "som_b2 = MiniSom(4,4,5,sigma=0.5,learning_rate=0.1,topology='hexagonal',neighborhood_function='gaussian',activation_distance='euclidean', random_seed=0)\n",
        "som_b2.random_weights_init(data.values)\n",
        "som_b2.train(data.values,1000,random_order=True)\n",
        "\n",
        "#평가\n",
        "som_b2.quantization_error(data.values)"
      ]
    },
    {
      "cell_type": "markdown",
      "id": "c4dce2a9",
      "metadata": {
        "id": "c4dce2a9"
      },
      "source": [
        "# 시각화"
      ]
    },
    {
      "cell_type": "code",
      "execution_count": null,
      "id": "02069463",
      "metadata": {
        "id": "02069463"
      },
      "outputs": [],
      "source": [
        "import matplotlib.pyplot as plt\n",
        "import matplotlib.patches as patches\n",
        "from matplotlib import cm\n",
        "import matplotlib as mpl\n",
        "from mpl_toolkits.axes_grid1 import make_axes_locatable\n",
        "from matplotlib.patches import RegularPolygon"
      ]
    },
    {
      "cell_type": "code",
      "execution_count": null,
      "id": "fcfeb8d4",
      "metadata": {
        "id": "fcfeb8d4"
      },
      "outputs": [],
      "source": [
        "#지정한 파라미터로 모델 생성 \n",
        "estimator = MiniSom(4,4,5,sigma=0.5,learning_rate=0.1, topology='hexagonal',random_seed=0)\n",
        "estimator.random_weights_init(data.values)\n",
        "estimator.train(data.values,1000,random_order=True)\n",
        "qe = estimator.quantization_error(data.values)\n",
        "\n",
        "winner_coordinates = np.array([estimator.winner(x) for x in data.values]).T\n",
        "cluster_index = np.ravel_multi_index(winner_coordinates,(4,4))"
      ]
    },
    {
      "cell_type": "code",
      "execution_count": null,
      "id": "4b640373",
      "metadata": {
        "id": "4b640373"
      },
      "outputs": [],
      "source": [
        "xx, yy = som_b2.get_euclidean_coordinates()\n",
        "umatrix = som_b2.distance_map()\n",
        "weights = som_b2.get_weights()\n",
        "\n",
        "f = plt.figure(figsize=(20,20))\n",
        "ax = f.add_subplot(111)\n",
        "ax.set_aspect('equal')\n",
        "\n",
        "# iteratively add hexagons\n",
        "# plotting the distance map as background\n",
        "# 해당 셀과 다른 이웃들 간 거리를 표현, 밝을수록 가깝고, 어두울수록 멀다\n",
        "for i in range(weights.shape[0]):\n",
        "    for j in range(weights.shape[1]):\n",
        "        wy = yy[(i, j)] * 2 / np.sqrt(4) * 4 / 5\n",
        "        hex = RegularPolygon((xx[(i, j)], wy), \n",
        "                             numVertices=6, \n",
        "                             radius=.95 / np.sqrt(3),\n",
        "                             facecolor=cm.Blues(umatrix[i, j]), \n",
        "                             alpha=.4, \n",
        "                             edgecolor='gray')\n",
        "        plot = ax.add_patch(hex)\n",
        "\n",
        "#output노드에 해당하는 클러스터 종류 및 밀도 확인         \n",
        "cnt=[]\n",
        "for c in tqdm_notebook(np.unique(cluster_index)):\n",
        "        time.sleep(0.01)\n",
        "        x_= [som_b2.convert_map_to_euclidean(som_b2.winner(x))[0] + (2*np.random.rand(1)[0]-1)*0.4 for x in data.values[cluster_index==c]]\n",
        "        y_= [som_b2.convert_map_to_euclidean(som_b2.winner(x))[1] + (2*np.random.rand(1)[0]-1)*0.4 for x in data.values[cluster_index==c]]\n",
        "        y_= [(i* 2 / np.sqrt(4) * 4 / 5) for i in y_]\n",
        "    \n",
        "        plot = sns.scatterplot( x = x_,  y= y_ ,label='cluster='+str(c),alpha=.5, palette=\"pastel\")\n",
        "        \n",
        "        #클러스터에 속한 데이터 개수 데이터프레임으로 출력\n",
        "        cnt.append([c,len(x_)])\n",
        "\n",
        "#클러스터별 개수를 표 형태로 출력 \n",
        "df_cnt = pd.DataFrame(cnt,columns=['cluster이름','개수'])\n",
        "df_cnt\n",
        "\n",
        "#x축,y축 간격 설정 \n",
        "xrange = np.arange(weights.shape[0])\n",
        "yrange = np.arange(weights.shape[1])\n",
        "plot = plt.xticks(xrange-.5, xrange)\n",
        "plot = plt.yticks(yrange * 2 / np.sqrt(4) * 4/ 5, yrange)\n",
        "\n",
        "#차트 우측에 color bar생성\n",
        "divider = make_axes_locatable(plt.gca())\n",
        "ax_cb = divider.new_horizontal(size=\"5%\", pad=0.05)    \n",
        "cb1 = mpl.colorbar.ColorbarBase(ax_cb, cmap=cm.Blues, \n",
        "                            orientation='vertical', alpha=.4)\n",
        "cb1.ax.get_yaxis().labelpad = 16\n",
        "plot = cb1.ax.set_ylabel('distance from neurons in the neighborhood',\n",
        "                  rotation=270, fontsize=16)\n",
        "plot = plt.gcf().add_axes(ax_cb)"
      ]
    },
    {
      "cell_type": "code",
      "execution_count": null,
      "id": "57048b66",
      "metadata": {
        "id": "57048b66"
      },
      "outputs": [],
      "source": [
        "df_cnt"
      ]
    },
    {
      "cell_type": "code",
      "execution_count": null,
      "id": "145e8453",
      "metadata": {
        "id": "145e8453"
      },
      "outputs": [],
      "source": [
        "cluster_df = pd.DataFrame(cluster_index)\n",
        "cluster_df.columns=['cluster']\n",
        "\n",
        "cluster_df"
      ]
    },
    {
      "cell_type": "code",
      "execution_count": null,
      "id": "53d039e6",
      "metadata": {
        "id": "53d039e6"
      },
      "outputs": [],
      "source": [
        "result = pd.concat([cl, cluster_df], axis=1)\n",
        "result"
      ]
    },
    {
      "cell_type": "code",
      "execution_count": null,
      "id": "e89efe10",
      "metadata": {
        "id": "e89efe10"
      },
      "outputs": [],
      "source": [
        "## 클러스터별 데이터프레임 생성 \n",
        "cl0 = result[result['cluster']==0]\n",
        "cl0 = cl0.drop(['cluster'], axis=1)\n",
        "\n",
        "cl1 = result[result['cluster']==1]\n",
        "cl1 = cl1.drop(['cluster'], axis=1)\n",
        "\n",
        "cl2 = result[result['cluster']==2]\n",
        "cl2 = cl2.drop(['cluster'], axis=1)\n",
        "\n",
        "cl3 = result[result['cluster']==3]\n",
        "cl3 = cl3.drop(['cluster'], axis=1)\n",
        "\n",
        "cl4 = result[result['cluster']==4]\n",
        "cl4 = cl4.drop(['cluster'], axis=1)\n",
        "\n",
        "cl5 = result[result['cluster']==5]\n",
        "cl5 = cl5.drop(['cluster'], axis=1)\n",
        "\n",
        "cl6 = result[result['cluster']==6]\n",
        "cl6 = cl6.drop(['cluster'], axis=1)\n",
        "\n",
        "cl7 = result[result['cluster']==7]\n",
        "cl7 = cl7.drop(['cluster'], axis=1)\n",
        "\n",
        "cl8 = result[result['cluster']==8]\n",
        "cl8 = cl8.drop(['cluster'], axis=1)\n",
        "\n",
        "cl9 = result[result['cluster']==9]\n",
        "cl9 = cl9.drop(['cluster'], axis=1)\n",
        "\n",
        "cl10 = result[result['cluster']==10]\n",
        "cl10 = cl10.drop(['cluster'], axis=1)\n",
        "\n",
        "cl11 = result[result['cluster']==11]\n",
        "cl11 = cl11.drop(['cluster'], axis=1)\n",
        "\n",
        "cl12 = result[result['cluster']==12]\n",
        "cl12 = cl12.drop(['cluster'], axis=1)\n",
        "\n",
        "cl13 = result[result['cluster']==13]\n",
        "cl13 = cl13.drop(['cluster'], axis=1)\n",
        "\n",
        "cl14 = result[result['cluster']==14]\n",
        "cl14 = cl14.drop(['cluster'], axis=1)\n",
        "\n",
        "cl15 = result[result['cluster']==15]\n",
        "cl15 = cl15.drop(['cluster'], axis=1)"
      ]
    },
    {
      "cell_type": "markdown",
      "id": "4c12f288",
      "metadata": {
        "id": "4c12f288"
      },
      "source": [
        "# XGBoost"
      ]
    },
    {
      "cell_type": "code",
      "execution_count": null,
      "id": "0de3d5cf",
      "metadata": {
        "id": "0de3d5cf"
      },
      "outputs": [],
      "source": [
        "from xgboost import XGBRegressor # 회귀트리 모델\n",
        "from xgboost import plot_importance # 중요변수 시각화\n",
        "\n",
        "from sklearn.model_selection import train_test_split\n",
        "from sklearn.metrics import mean_absolute_error, mean_squared_error, explained_variance_score"
      ]
    },
    {
      "cell_type": "code",
      "execution_count": null,
      "id": "5a45dee8",
      "metadata": {
        "id": "5a45dee8"
      },
      "outputs": [],
      "source": [
        "#  'SHPR_CD'로 그룹화 \n",
        "grouped_0 = cl0.groupby('SHPR_CD').mean()\n",
        "grouped_1 = cl1.groupby('SHPR_CD').mean()\n",
        "grouped_2 = cl2.groupby('SHPR_CD').mean()\n",
        "grouped_3 = cl3.groupby('SHPR_CD').mean()\n",
        "grouped_4 = cl4.groupby('SHPR_CD').mean()\n",
        "grouped_5 = cl5.groupby('SHPR_CD').mean()\n",
        "grouped_6 = cl6.groupby('SHPR_CD').mean()\n",
        "grouped_7 = cl7.groupby('SHPR_CD').mean()\n",
        "grouped_8 = cl8.groupby('SHPR_CD').mean()\n",
        "grouped_9 = cl9.groupby('SHPR_CD').mean()\n",
        "grouped_10 = cl10.groupby('SHPR_CD').mean()\n",
        "grouped_11 = cl11.groupby('SHPR_CD').mean()\n",
        "grouped_12 = cl12.groupby('SHPR_CD').mean()\n",
        "grouped_13 = cl13.groupby('SHPR_CD').mean()\n",
        "grouped_14 = cl14.groupby('SHPR_CD').mean()\n",
        "grouped_15 = cl15.groupby('SHPR_CD').mean()"
      ]
    },
    {
      "cell_type": "markdown",
      "id": "713b9a51",
      "metadata": {
        "id": "713b9a51"
      },
      "source": [
        "### 훈련/테스트 구분 및 모델 생성"
      ]
    },
    {
      "cell_type": "code",
      "execution_count": null,
      "id": "db0e02fe",
      "metadata": {
        "id": "db0e02fe"
      },
      "outputs": [],
      "source": [
        "y_target = grouped_0['ITEM_QTY']\n",
        "X_features = grouped_0.drop('ITEM_QTY', axis=1, inplace=False)\n",
        "X_train, X_test, y_train, y_test = train_test_split(X_features, y_target, test_size=0.3,random_state=0)\n",
        "xgb_model_0 = XGBRegressor(n_estimators=100, learning_rate=0.08, gamma=0, subsample=0.75, colsample_bytree=1, max_depth=7)\n",
        "xgb_model_0.fit(X_train,y_train)"
      ]
    },
    {
      "cell_type": "code",
      "execution_count": null,
      "id": "4119b5b6",
      "metadata": {
        "id": "4119b5b6"
      },
      "outputs": [],
      "source": [
        "y_target = grouped_1['ITEM_QTY']\n",
        "X_features = grouped_1.drop('ITEM_QTY', axis=1, inplace=False)\n",
        "X_train, X_test, y_train, y_test = train_test_split(X_features, y_target, test_size=0.3,random_state=0)\n",
        "xgb_model_1 = XGBRegressor(n_estimators=100, learning_rate=0.08, gamma=0, subsample=0.75, colsample_bytree=1, max_depth=7)\n",
        "xgb_model_1.fit(X_train,y_train)"
      ]
    },
    {
      "cell_type": "code",
      "execution_count": null,
      "id": "8563afd3",
      "metadata": {
        "id": "8563afd3"
      },
      "outputs": [],
      "source": [
        "y_target = grouped_2['ITEM_QTY']\n",
        "X_features = grouped_2.drop('ITEM_QTY', axis=1, inplace=False)\n",
        "X_train, X_test, y_train, y_test = train_test_split(X_features, y_target, test_size=0.3,random_state=0)\n",
        "xgb_model_2 = XGBRegressor(n_estimators=100, learning_rate=0.08, gamma=0, subsample=0.75, colsample_bytree=1, max_depth=7)\n",
        "xgb_model_2.fit(X_train,y_train)"
      ]
    },
    {
      "cell_type": "code",
      "execution_count": null,
      "id": "6332cf9f",
      "metadata": {
        "id": "6332cf9f"
      },
      "outputs": [],
      "source": [
        "y_target = grouped_3['ITEM_QTY']\n",
        "X_features = grouped_3.drop('ITEM_QTY', axis=1, inplace=False)\n",
        "X_train, X_test, y_train, y_test = train_test_split(X_features, y_target, test_size=0.3,random_state=0)\n",
        "xgb_model_3 = XGBRegressor(n_estimators=100, learning_rate=0.08, gamma=0, subsample=0.75, colsample_bytree=1, max_depth=7)\n",
        "xgb_model_3.fit(X_train,y_train)"
      ]
    },
    {
      "cell_type": "code",
      "execution_count": null,
      "id": "0e67cf72",
      "metadata": {
        "id": "0e67cf72"
      },
      "outputs": [],
      "source": [
        "y_target = grouped_4['ITEM_QTY']\n",
        "X_features = grouped_4.drop('ITEM_QTY', axis=1, inplace=False)\n",
        "X_train, X_test, y_train, y_test = train_test_split(X_features, y_target, test_size=0.3,random_state=0)\n",
        "xgb_model_4 = XGBRegressor(n_estimators=100, learning_rate=0.08, gamma=0, subsample=0.75, colsample_bytree=1, max_depth=7)\n",
        "xgb_model_4.fit(X_train,y_train)"
      ]
    },
    {
      "cell_type": "code",
      "execution_count": null,
      "id": "c549caf8",
      "metadata": {
        "id": "c549caf8"
      },
      "outputs": [],
      "source": [
        "y_target = grouped_5['ITEM_QTY']\n",
        "X_features = grouped_5.drop('ITEM_QTY', axis=1, inplace=False)\n",
        "X_train, X_test, y_train, y_test = train_test_split(X_features, y_target, test_size=0.3,random_state=0)\n",
        "xgb_model_5 = XGBRegressor(n_estimators=100, learning_rate=0.08, gamma=0, subsample=0.75, colsample_bytree=1, max_depth=7)\n",
        "xgb_model_5.fit(X_train,y_train)"
      ]
    },
    {
      "cell_type": "code",
      "execution_count": null,
      "id": "af69c86a",
      "metadata": {
        "id": "af69c86a"
      },
      "outputs": [],
      "source": [
        "y_target = grouped_6['ITEM_QTY']\n",
        "X_features = grouped_6.drop('ITEM_QTY', axis=1, inplace=False)\n",
        "X_train, X_test, y_train, y_test = train_test_split(X_features, y_target, test_size=0.3,random_state=0)\n",
        "xgb_model_6 = XGBRegressor(n_estimators=100, learning_rate=0.08, gamma=0, subsample=0.75, colsample_bytree=1, max_depth=7)\n",
        "xgb_model_6.fit(X_train,y_train)"
      ]
    },
    {
      "cell_type": "code",
      "execution_count": null,
      "id": "69810eec",
      "metadata": {
        "id": "69810eec"
      },
      "outputs": [],
      "source": [
        "y_target = grouped_7['ITEM_QTY']\n",
        "X_features = grouped_7.drop('ITEM_QTY', axis=1, inplace=False)\n",
        "X_train, X_test, y_train, y_test = train_test_split(X_features, y_target, test_size=0.3,random_state=0)\n",
        "xgb_model_7 = XGBRegressor(n_estimators=100, learning_rate=0.08, gamma=0, subsample=0.75, colsample_bytree=1, max_depth=7)\n",
        "xgb_model_7.fit(X_train,y_train)"
      ]
    },
    {
      "cell_type": "code",
      "execution_count": null,
      "id": "9afac2ee",
      "metadata": {
        "id": "9afac2ee"
      },
      "outputs": [],
      "source": [
        "y_target = grouped_8['ITEM_QTY']\n",
        "X_features = grouped_8.drop('ITEM_QTY', axis=1, inplace=False)\n",
        "X_train, X_test, y_train, y_test = train_test_split(X_features, y_target, test_size=0.3,random_state=0)\n",
        "xgb_model_8 = XGBRegressor(n_estimators=100, learning_rate=0.08, gamma=0, subsample=0.75, colsample_bytree=1, max_depth=7)\n",
        "xgb_model_8.fit(X_train,y_train)"
      ]
    },
    {
      "cell_type": "code",
      "execution_count": null,
      "id": "50fa4047",
      "metadata": {
        "id": "50fa4047"
      },
      "outputs": [],
      "source": [
        "y_target = grouped_9['ITEM_QTY']\n",
        "X_features = grouped_9.drop('ITEM_QTY', axis=1, inplace=False)\n",
        "X_train, X_test, y_train, y_test = train_test_split(X_features, y_target, test_size=0.3,random_state=0)\n",
        "xgb_model_9 = XGBRegressor(n_estimators=100, learning_rate=0.08, gamma=0, subsample=0.75, colsample_bytree=1, max_depth=7)\n",
        "xgb_model_9.fit(X_train,y_train)"
      ]
    },
    {
      "cell_type": "code",
      "execution_count": null,
      "id": "0804a5f6",
      "metadata": {
        "id": "0804a5f6"
      },
      "outputs": [],
      "source": [
        "y_target = grouped_10['ITEM_QTY']\n",
        "X_features = grouped_10.drop('ITEM_QTY', axis=1, inplace=False)\n",
        "X_train, X_test, y_train, y_test = train_test_split(X_features, y_target, test_size=0.3,random_state=0)\n",
        "xgb_model_10 = XGBRegressor(n_estimators=100, learning_rate=0.08, gamma=0, subsample=0.75, colsample_bytree=1, max_depth=7)\n",
        "xgb_model_10.fit(X_train,y_train)"
      ]
    },
    {
      "cell_type": "code",
      "execution_count": null,
      "id": "39ff2e3b",
      "metadata": {
        "id": "39ff2e3b"
      },
      "outputs": [],
      "source": [
        "y_target = grouped_11['ITEM_QTY']\n",
        "X_features = grouped_11.drop('ITEM_QTY', axis=1, inplace=False)\n",
        "X_train, X_test, y_train, y_test = train_test_split(X_features, y_target, test_size=0.3,random_state=0)\n",
        "xgb_model_11 = XGBRegressor(n_estimators=100, learning_rate=0.08, gamma=0, subsample=0.75, colsample_bytree=1, max_depth=7)\n",
        "xgb_model_11.fit(X_train,y_train)"
      ]
    },
    {
      "cell_type": "code",
      "execution_count": null,
      "id": "c5965790",
      "metadata": {
        "id": "c5965790"
      },
      "outputs": [],
      "source": [
        "y_target = grouped_12['ITEM_QTY']\n",
        "X_features = grouped_12.drop('ITEM_QTY', axis=1, inplace=False)\n",
        "X_train, X_test, y_train, y_test = train_test_split(X_features, y_target, test_size=0.3,random_state=0)\n",
        "xgb_model_12 = XGBRegressor(n_estimators=100, learning_rate=0.08, gamma=0, subsample=0.75, colsample_bytree=1, max_depth=7)\n",
        "xgb_model_12.fit(X_train,y_train)"
      ]
    },
    {
      "cell_type": "code",
      "execution_count": null,
      "id": "3bdb68c6",
      "metadata": {
        "id": "3bdb68c6"
      },
      "outputs": [],
      "source": [
        "y_target = grouped_13['ITEM_QTY']\n",
        "X_features = grouped_13.drop('ITEM_QTY', axis=1, inplace=False)\n",
        "X_train, X_test, y_train, y_test = train_test_split(X_features, y_target, test_size=0.3,random_state=0)\n",
        "xgb_model_13 = XGBRegressor(n_estimators=100, learning_rate=0.08, gamma=0, subsample=0.75, colsample_bytree=1, max_depth=7)\n",
        "xgb_model_13.fit(X_train,y_train)"
      ]
    },
    {
      "cell_type": "code",
      "execution_count": null,
      "id": "88917124",
      "metadata": {
        "id": "88917124"
      },
      "outputs": [],
      "source": [
        "y_target = grouped_14['ITEM_QTY']\n",
        "X_features = grouped_14.drop('ITEM_QTY', axis=1, inplace=False)\n",
        "X_train, X_test, y_train, y_test = train_test_split(X_features, y_target, test_size=0.3,random_state=0)\n",
        "xgb_model_14 = XGBRegressor(n_estimators=100, learning_rate=0.08, gamma=0, subsample=0.75, colsample_bytree=1, max_depth=7)\n",
        "xgb_model_14.fit(X_train,y_train)"
      ]
    },
    {
      "cell_type": "code",
      "execution_count": null,
      "id": "975b2aa7",
      "metadata": {
        "id": "975b2aa7"
      },
      "outputs": [],
      "source": [
        "y_target = grouped_15['ITEM_QTY']\n",
        "X_features = grouped_15.drop('ITEM_QTY', axis=1, inplace=False)\n",
        "X_train, X_test, y_train, y_test = train_test_split(X_features, y_target, test_size=0.3,random_state=0)\n",
        "xgb_model_15 = XGBRegressor(n_estimators=100, learning_rate=0.08, gamma=0, subsample=0.75, colsample_bytree=1, max_depth=7)\n",
        "xgb_model_15.fit(X_train,y_train)"
      ]
    },
    {
      "cell_type": "markdown",
      "id": "b81c1640",
      "metadata": {
        "id": "b81c1640"
      },
      "source": [
        "### RMSE: 예측성능 평가"
      ]
    },
    {
      "cell_type": "code",
      "execution_count": null,
      "id": "4e8af822",
      "metadata": {
        "id": "4e8af822"
      },
      "outputs": [],
      "source": [
        "y_pred = xgb_model_0.predict(X_test)\n",
        "rmse_0 = np.sqrt(mean_squared_error(y_test, y_pred))\n",
        "print(\"RMSE: %f\" % (rmse_0))"
      ]
    },
    {
      "cell_type": "code",
      "execution_count": null,
      "id": "0cba4977",
      "metadata": {
        "id": "0cba4977"
      },
      "outputs": [],
      "source": [
        "y_pred = xgb_model_1.predict(X_test)\n",
        "rmse_1 = np.sqrt(mean_squared_error(y_test, y_pred))\n",
        "print(\"RMSE: %f\" % (rmse_1))"
      ]
    },
    {
      "cell_type": "code",
      "execution_count": null,
      "id": "fdb7f0f6",
      "metadata": {
        "id": "fdb7f0f6"
      },
      "outputs": [],
      "source": [
        "y_pred = xgb_model_2.predict(X_test)\n",
        "rmse_2 = np.sqrt(mean_squared_error(y_test, y_pred))\n",
        "print(\"RMSE: %f\" % (rmse_2))"
      ]
    },
    {
      "cell_type": "code",
      "execution_count": null,
      "id": "fbc5e59f",
      "metadata": {
        "id": "fbc5e59f"
      },
      "outputs": [],
      "source": [
        "y_pred = xgb_model_3.predict(X_test)\n",
        "rmse_3 = np.sqrt(mean_squared_error(y_test, y_pred))\n",
        "print(\"RMSE: %f\" % (rmse_3))"
      ]
    },
    {
      "cell_type": "code",
      "execution_count": null,
      "id": "3e856cc9",
      "metadata": {
        "id": "3e856cc9"
      },
      "outputs": [],
      "source": [
        "y_pred = xgb_model_4.predict(X_test)\n",
        "rmse_4 = np.sqrt(mean_squared_error(y_test, y_pred))\n",
        "print(\"RMSE: %f\" % (rmse_4))"
      ]
    },
    {
      "cell_type": "code",
      "execution_count": null,
      "id": "b3f49ad6",
      "metadata": {
        "id": "b3f49ad6"
      },
      "outputs": [],
      "source": [
        "y_pred = xgb_model_5.predict(X_test)\n",
        "rmse_5 = np.sqrt(mean_squared_error(y_test, y_pred))\n",
        "print(\"RMSE: %f\" % (rmse_5))"
      ]
    },
    {
      "cell_type": "code",
      "execution_count": null,
      "id": "31e09322",
      "metadata": {
        "id": "31e09322"
      },
      "outputs": [],
      "source": [
        "y_pred = xgb_model_6.predict(X_test)\n",
        "rmse_6 = np.sqrt(mean_squared_error(y_test, y_pred))\n",
        "print(\"RMSE: %f\" % (rmse_6))"
      ]
    },
    {
      "cell_type": "code",
      "execution_count": null,
      "id": "25eb7bab",
      "metadata": {
        "id": "25eb7bab"
      },
      "outputs": [],
      "source": [
        "y_pred = xgb_model_7.predict(X_test)\n",
        "rmse_7 = np.sqrt(mean_squared_error(y_test, y_pred))\n",
        "print(\"RMSE: %f\" % (rmse_7))"
      ]
    },
    {
      "cell_type": "code",
      "execution_count": null,
      "id": "fc9a7930",
      "metadata": {
        "id": "fc9a7930"
      },
      "outputs": [],
      "source": [
        "y_pred = xgb_model_8.predict(X_test)\n",
        "rmse_8 = np.sqrt(mean_squared_error(y_test, y_pred))\n",
        "print(\"RMSE: %f\" % (rmse_8))"
      ]
    },
    {
      "cell_type": "code",
      "execution_count": null,
      "id": "5215fd55",
      "metadata": {
        "id": "5215fd55"
      },
      "outputs": [],
      "source": [
        "y_pred = xgb_model_9.predict(X_test)\n",
        "rmse_9 = np.sqrt(mean_squared_error(y_test, y_pred))\n",
        "print(\"RMSE: %f\" % (rmse_9))"
      ]
    },
    {
      "cell_type": "code",
      "execution_count": null,
      "id": "d2fa8b22",
      "metadata": {
        "id": "d2fa8b22"
      },
      "outputs": [],
      "source": [
        "y_pred = xgb_model_10.predict(X_test)\n",
        "rmse_10 = np.sqrt(mean_squared_error(y_test, y_pred))\n",
        "print(\"RMSE: %f\" % (rmse_10))"
      ]
    },
    {
      "cell_type": "code",
      "execution_count": null,
      "id": "da99bf7d",
      "metadata": {
        "id": "da99bf7d"
      },
      "outputs": [],
      "source": [
        "y_pred = xgb_model_11.predict(X_test)\n",
        "rmse_11 = np.sqrt(mean_squared_error(y_test, y_pred))\n",
        "print(\"RMSE: %f\" % (rmse_11))"
      ]
    },
    {
      "cell_type": "code",
      "execution_count": null,
      "id": "c3fbb30d",
      "metadata": {
        "id": "c3fbb30d"
      },
      "outputs": [],
      "source": [
        "y_pred = xgb_model_12.predict(X_test)\n",
        "rmse_12 = np.sqrt(mean_squared_error(y_test, y_pred))\n",
        "print(\"RMSE: %f\" % (rmse_12))"
      ]
    },
    {
      "cell_type": "code",
      "execution_count": null,
      "id": "a28e6d5a",
      "metadata": {
        "id": "a28e6d5a"
      },
      "outputs": [],
      "source": [
        "y_pred = xgb_model_13.predict(X_test)\n",
        "rmse_13 = np.sqrt(mean_squared_error(y_test, y_pred))\n",
        "print(\"RMSE: %f\" % (rmse_13))"
      ]
    },
    {
      "cell_type": "code",
      "execution_count": null,
      "id": "69259c04",
      "metadata": {
        "id": "69259c04"
      },
      "outputs": [],
      "source": [
        "y_pred = xgb_model_14.predict(X_test)\n",
        "rmse_14 = np.sqrt(mean_squared_error(y_test, y_pred))\n",
        "print(\"RMSE: %f\" % (rmse_14))"
      ]
    },
    {
      "cell_type": "code",
      "execution_count": null,
      "id": "8134d9f3",
      "metadata": {
        "id": "8134d9f3"
      },
      "outputs": [],
      "source": [
        "y_pred = xgb_model_15.predict(X_test)\n",
        "rmse_15 = np.sqrt(mean_squared_error(y_test, y_pred))\n",
        "print(\"RMSE: %f\" % (rmse_15))"
      ]
    },
    {
      "cell_type": "code",
      "execution_count": null,
      "id": "a45343ad",
      "metadata": {
        "id": "a45343ad"
      },
      "outputs": [],
      "source": [
        "RMSE = pd.DataFrame(\n",
        "                {'cluster' : [0,1,2,3,4,5,6,7,8,9,10,11,12,13,14,15],\n",
        "                 'rmse' : [rmse_0,rmse_1, rmse_2, rmse_3, rmse_4, rmse_5,rmse_6,rmse_7,rmse_8,rmse_9,rmse_10,rmse_11,rmse_12,rmse_13, rmse_14,rmse_15]})\n",
        "RMSE.set_index('cluster')"
      ]
    },
    {
      "cell_type": "markdown",
      "id": "a9a42dbb",
      "metadata": {
        "id": "a9a42dbb"
      },
      "source": [
        "### 변수 중요도 (Feature Importance)"
      ]
    },
    {
      "cell_type": "code",
      "execution_count": null,
      "id": "b185ffe6",
      "metadata": {
        "id": "b185ffe6"
      },
      "outputs": [],
      "source": [
        "fig, axes = plt.subplots(nrows=4, ncols=4, figsize=(25,25))\n",
        "axes = [ax for row_axes in axes for ax in row_axes]\n",
        "plot_importance(xgb_model_0, ax = axes[0], title='cluster0',height=0.5)\n",
        "plot_importance(xgb_model_1, ax = axes[1], title='cluster1',height=0.5)\n",
        "plot_importance(xgb_model_2, ax = axes[2], title='cluster2',height=0.5)\n",
        "plot_importance(xgb_model_3, ax = axes[3], title='cluster3',height=0.5)\n",
        "plot_importance(xgb_model_4, ax = axes[4], title='cluster4',height=0.5)\n",
        "plot_importance(xgb_model_5, ax = axes[5], title='cluster5',height=0.5)\n",
        "plot_importance(xgb_model_6, ax = axes[6], title='cluster6',height=0.5)\n",
        "plot_importance(xgb_model_7, ax = axes[7], title='cluster7',height=0.5)\n",
        "plot_importance(xgb_model_8, ax = axes[8], title='cluster8',height=0.5)\n",
        "plot_importance(xgb_model_9, ax = axes[9], title='cluster9',height=0.5)\n",
        "plot_importance(xgb_model_10, ax = axes[10], title='cluster10',height=0.5)\n",
        "plot_importance(xgb_model_11, ax = axes[11], title='cluster11',height=0.5)\n",
        "plot_importance(xgb_model_12, ax = axes[12], title='cluster12',height=0.5)\n",
        "plot_importance(xgb_model_13, ax = axes[13], title='cluster13',height=0.5)\n",
        "plot_importance(xgb_model_14, ax = axes[14], title='cluster14',height=0.5)\n",
        "plot_importance(xgb_model_15, ax = axes[15], title='cluster15',height=0.5)\n",
        "plt.show()"
      ]
    },
    {
      "cell_type": "markdown",
      "id": "f3417d03",
      "metadata": {
        "id": "f3417d03"
      },
      "source": [
        "# Prophet 시계열 예측"
      ]
    },
    {
      "cell_type": "markdown",
      "id": "ae3f1892",
      "metadata": {
        "id": "ae3f1892"
      },
      "source": [
        "### 1) 클러스터별 수량 예측"
      ]
    },
    {
      "cell_type": "code",
      "execution_count": null,
      "id": "1b425577",
      "metadata": {
        "id": "1b425577"
      },
      "outputs": [],
      "source": [
        "cl0_fc = cl0[['BKG_DATE', 'ITEM_QTY']].copy()\n",
        "cl0_fc.columns = ['ds', 'y']\n",
        "cl0_fc['ds'] = pd.to_datetime(cl0_fc['ds'])\n",
        "\n",
        "cl1_fc = cl1[['BKG_DATE', 'ITEM_QTY']].copy()\n",
        "cl1_fc.columns = ['ds', 'y']\n",
        "cl1_fc['ds'] = pd.to_datetime(cl1_fc['ds'])\n",
        "\n",
        "cl2_fc = cl2[['BKG_DATE', 'ITEM_QTY']].copy()\n",
        "cl2_fc.columns = ['ds', 'y']\n",
        "cl2_fc['ds'] = pd.to_datetime(cl2_fc['ds'])\n",
        "\n",
        "cl3_fc = cl3[['BKG_DATE', 'ITEM_QTY']].copy()\n",
        "cl3_fc.columns = ['ds', 'y']\n",
        "cl3_fc['ds'] = pd.to_datetime(cl3_fc['ds'])\n",
        "\n",
        "cl4_fc = cl4[['BKG_DATE', 'ITEM_QTY']].copy()\n",
        "cl4_fc.columns = ['ds', 'y']\n",
        "cl4_fc['ds'] = pd.to_datetime(cl4_fc['ds'])\n",
        "\n",
        "cl5_fc = cl5[['BKG_DATE', 'ITEM_QTY']].copy()\n",
        "cl5_fc.columns = ['ds', 'y']\n",
        "cl5_fc['ds'] = pd.to_datetime(cl5_fc['ds'])\n",
        "\n",
        "cl6_fc = cl6[['BKG_DATE', 'ITEM_QTY']].copy()\n",
        "cl6_fc.columns = ['ds', 'y']\n",
        "cl6_fc['ds'] = pd.to_datetime(cl6_fc['ds'])\n",
        "\n",
        "cl7_fc = cl7[['BKG_DATE', 'ITEM_QTY']].copy()\n",
        "cl7_fc.columns = ['ds', 'y']\n",
        "cl7_fc['ds'] = pd.to_datetime(cl7_fc['ds'])\n",
        "\n",
        "cl8_fc = cl8[['BKG_DATE', 'ITEM_QTY']].copy()\n",
        "cl8_fc.columns = ['ds', 'y']\n",
        "cl8_fc['ds'] = pd.to_datetime(cl8_fc['ds'])\n",
        "\n",
        "cl9_fc = cl9[['BKG_DATE', 'ITEM_QTY']].copy()\n",
        "cl9_fc.columns = ['ds', 'y']\n",
        "cl9_fc['ds'] = pd.to_datetime(cl9_fc['ds'])\n",
        "\n",
        "cl10_fc = cl10[['BKG_DATE', 'ITEM_QTY']].copy()\n",
        "cl10_fc.columns = ['ds', 'y']\n",
        "cl10_fc['ds'] = pd.to_datetime(cl10_fc['ds'])\n",
        "\n",
        "cl11_fc = cl11[['BKG_DATE', 'ITEM_QTY']].copy()\n",
        "cl11_fc.columns = ['ds', 'y']\n",
        "cl11_fc['ds'] = pd.to_datetime(cl11_fc['ds'])\n",
        "\n",
        "cl12_fc = cl12[['BKG_DATE', 'ITEM_QTY']].copy()\n",
        "cl12_fc.columns = ['ds', 'y']\n",
        "cl12_fc['ds'] = pd.to_datetime(cl12_fc['ds'])\n",
        "\n",
        "cl13_fc = cl13[['BKG_DATE', 'ITEM_QTY']].copy()\n",
        "cl13_fc.columns = ['ds', 'y']\n",
        "cl13_fc['ds'] = pd.to_datetime(cl13_fc['ds'])\n",
        "\n",
        "cl14_fc = cl14[['BKG_DATE', 'ITEM_QTY']].copy()\n",
        "cl14_fc.columns = ['ds', 'y']\n",
        "cl14_fc['ds'] = pd.to_datetime(cl14_fc['ds'])\n",
        "\n",
        "cl15_fc = cl15[['BKG_DATE', 'ITEM_QTY']].copy()\n",
        "cl15_fc.columns = ['ds', 'y']\n",
        "cl15_fc['ds'] = pd.to_datetime(cl15_fc['ds'])"
      ]
    },
    {
      "cell_type": "markdown",
      "id": "f6a79357",
      "metadata": {
        "id": "f6a79357"
      },
      "source": [
        "#### 클러스터별 Prophet 모델 생성"
      ]
    },
    {
      "cell_type": "code",
      "execution_count": null,
      "id": "3653f319",
      "metadata": {
        "id": "3653f319"
      },
      "outputs": [],
      "source": [
        "m0 = Prophet()\n",
        "m0.fit(cl0_fc)"
      ]
    },
    {
      "cell_type": "code",
      "execution_count": null,
      "id": "32bb0e4e",
      "metadata": {
        "id": "32bb0e4e"
      },
      "outputs": [],
      "source": [
        "m1 = Prophet()\n",
        "m1.fit(cl1_fc)"
      ]
    },
    {
      "cell_type": "code",
      "execution_count": null,
      "id": "2936bb9b",
      "metadata": {
        "id": "2936bb9b"
      },
      "outputs": [],
      "source": [
        "m2 = Prophet()\n",
        "m2.fit(cl2_fc)"
      ]
    },
    {
      "cell_type": "code",
      "execution_count": null,
      "id": "3ce36528",
      "metadata": {
        "id": "3ce36528"
      },
      "outputs": [],
      "source": [
        "m3 = Prophet()\n",
        "m3.fit(cl3_fc)"
      ]
    },
    {
      "cell_type": "code",
      "execution_count": null,
      "id": "50e8c496",
      "metadata": {
        "id": "50e8c496"
      },
      "outputs": [],
      "source": [
        "m4 = Prophet()\n",
        "m4.fit(cl4_fc)"
      ]
    },
    {
      "cell_type": "code",
      "execution_count": null,
      "id": "289b11d6",
      "metadata": {
        "id": "289b11d6"
      },
      "outputs": [],
      "source": [
        "m5 = Prophet()\n",
        "m5.fit(cl5_fc)"
      ]
    },
    {
      "cell_type": "code",
      "execution_count": null,
      "id": "686e715d",
      "metadata": {
        "id": "686e715d"
      },
      "outputs": [],
      "source": [
        "m6 = Prophet()\n",
        "m6.fit(cl6_fc)"
      ]
    },
    {
      "cell_type": "code",
      "execution_count": null,
      "id": "f6b3ca9c",
      "metadata": {
        "id": "f6b3ca9c"
      },
      "outputs": [],
      "source": [
        "m7 = Prophet()\n",
        "m7.fit(cl7_fc)"
      ]
    },
    {
      "cell_type": "code",
      "execution_count": null,
      "id": "7dd2e797",
      "metadata": {
        "id": "7dd2e797"
      },
      "outputs": [],
      "source": [
        "m8 = Prophet()\n",
        "m8.fit(cl8_fc)"
      ]
    },
    {
      "cell_type": "code",
      "execution_count": null,
      "id": "cf846d1b",
      "metadata": {
        "id": "cf846d1b"
      },
      "outputs": [],
      "source": [
        "m9 = Prophet()\n",
        "m9.fit(cl9_fc)"
      ]
    },
    {
      "cell_type": "code",
      "execution_count": null,
      "id": "4b141777",
      "metadata": {
        "id": "4b141777"
      },
      "outputs": [],
      "source": [
        "m10 = Prophet()\n",
        "m10.fit(cl10_fc)"
      ]
    },
    {
      "cell_type": "code",
      "execution_count": null,
      "id": "a33d507d",
      "metadata": {
        "id": "a33d507d"
      },
      "outputs": [],
      "source": [
        "m11 = Prophet()\n",
        "m11.fit(cl11_fc)"
      ]
    },
    {
      "cell_type": "code",
      "execution_count": null,
      "id": "fcb1fb76",
      "metadata": {
        "id": "fcb1fb76"
      },
      "outputs": [],
      "source": [
        "m12 = Prophet()\n",
        "m12.fit(cl12_fc)"
      ]
    },
    {
      "cell_type": "code",
      "execution_count": null,
      "id": "c57cc17b",
      "metadata": {
        "id": "c57cc17b"
      },
      "outputs": [],
      "source": [
        "m13 = Prophet()\n",
        "m13.fit(cl13_fc)"
      ]
    },
    {
      "cell_type": "code",
      "execution_count": null,
      "id": "090d315a",
      "metadata": {
        "id": "090d315a"
      },
      "outputs": [],
      "source": [
        "m14 = Prophet()\n",
        "m14.fit(cl14_fc)"
      ]
    },
    {
      "cell_type": "code",
      "execution_count": null,
      "id": "029282a8",
      "metadata": {
        "id": "029282a8"
      },
      "outputs": [],
      "source": [
        "m15 = Prophet()\n",
        "m15.fit(cl15_fc)"
      ]
    },
    {
      "cell_type": "markdown",
      "id": "c88616d9",
      "metadata": {
        "id": "c88616d9"
      },
      "source": [
        "#### Forecasting (향후 100일)"
      ]
    },
    {
      "cell_type": "code",
      "execution_count": null,
      "id": "4383e122",
      "metadata": {
        "id": "4383e122"
      },
      "outputs": [],
      "source": [
        "future0 = m0.make_future_dataframe(periods=100)\n",
        "forecast0 = m0.predict(future0)\n",
        "\n",
        "future1 = m1.make_future_dataframe(periods=100)\n",
        "forecast1 = m1.predict(future1)\n",
        "\n",
        "future2 = m2.make_future_dataframe(periods=100)\n",
        "forecast2 = m2.predict(future2)\n",
        "\n",
        "future3 = m3.make_future_dataframe(periods=100)\n",
        "forecast3 = m3.predict(future3)\n",
        "\n",
        "future4 = m4.make_future_dataframe(periods=100)\n",
        "forecast4 = m4.predict(future4)\n",
        "\n",
        "future5 = m5.make_future_dataframe(periods=100)\n",
        "forecast5 = m5.predict(future5)\n",
        "\n",
        "future6 = m6.make_future_dataframe(periods=100)\n",
        "forecast6 = m6.predict(future6)\n",
        "\n",
        "future7 = m7.make_future_dataframe(periods=100)\n",
        "forecast7 = m7.predict(future7)\n",
        "\n",
        "future8 = m8.make_future_dataframe(periods=100)\n",
        "forecast8 = m8.predict(future8)\n",
        "\n",
        "future9 = m9.make_future_dataframe(periods=100)\n",
        "forecast9 = m9.predict(future9)\n",
        "\n",
        "future10 = m10.make_future_dataframe(periods=100)\n",
        "forecast10 = m10.predict(future10)\n",
        "\n",
        "future11 = m11.make_future_dataframe(periods=100)\n",
        "forecast11 = m11.predict(future11)\n",
        "\n",
        "future12 = m12.make_future_dataframe(periods=100)\n",
        "forecast12 = m12.predict(future12)\n",
        "\n",
        "future13 = m13.make_future_dataframe(periods=100)\n",
        "forecast13 = m13.predict(future13)\n",
        "\n",
        "future14 = m14.make_future_dataframe(periods=100)\n",
        "forecast14 = m14.predict(future14)\n",
        "\n",
        "future15 = m15.make_future_dataframe(periods=100)\n",
        "forecast15 = m15.predict(future15)"
      ]
    },
    {
      "cell_type": "markdown",
      "id": "b3b50c82",
      "metadata": {
        "id": "b3b50c82"
      },
      "source": [
        "#### 시각화 "
      ]
    },
    {
      "cell_type": "code",
      "execution_count": null,
      "id": "50dceeb4",
      "metadata": {
        "id": "50dceeb4"
      },
      "outputs": [],
      "source": [
        "fig, axes = plt.subplots(nrows=4, ncols=4, figsize=(25,25))\n",
        "axes = [ax for row_axes in axes for ax in row_axes]\n",
        "\n",
        "m0.plot(forecast0, xlabel='Date', ylabel='ITME_QUANTITIY', ax = axes[0])\n",
        "m1.plot(forecast1, xlabel='Date', ylabel='ITME_QUANTITIY', ax = axes[1])\n",
        "m2.plot(forecast2, xlabel='Date', ylabel='ITME_QUANTITIY', ax = axes[2])\n",
        "m3.plot(forecast3, xlabel='Date', ylabel='ITME_QUANTITIY', ax = axes[3])\n",
        "m4.plot(forecast4, xlabel='Date', ylabel='ITME_QUANTITIY', ax = axes[4])\n",
        "m5.plot(forecast5, xlabel='Date', ylabel='ITME_QUANTITIY', ax = axes[5])\n",
        "m6.plot(forecast6, xlabel='Date', ylabel='ITME_QUANTITIY', ax = axes[6])\n",
        "m7.plot(forecast7, xlabel='Date', ylabel='ITME_QUANTITIY', ax = axes[7])\n",
        "m8.plot(forecast8, xlabel='Date', ylabel='ITME_QUANTITIY', ax = axes[8])\n",
        "m9.plot(forecast9, xlabel='Date', ylabel='ITME_QUANTITIY', ax = axes[9])\n",
        "m10.plot(forecast10, xlabel='Date', ylabel='ITME_QUANTITIY', ax = axes[10])\n",
        "m11.plot(forecast11, xlabel='Date', ylabel='ITME_QUANTITIY', ax = axes[11])\n",
        "m12.plot(forecast12, xlabel='Date', ylabel='ITME_QUANTITIY', ax = axes[12])\n",
        "m13.plot(forecast13, xlabel='Date', ylabel='ITME_QUANTITIY', ax = axes[13])\n",
        "m14.plot(forecast14, xlabel='Date', ylabel='ITME_QUANTITIY', ax = axes[14])\n",
        "m15.plot(forecast15, xlabel='Date', ylabel='ITME_QUANTITIY', ax = axes[15])"
      ]
    },
    {
      "cell_type": "code",
      "execution_count": null,
      "id": "2c7fdb34",
      "metadata": {
        "id": "2c7fdb34"
      },
      "outputs": [],
      "source": [
        "m0.plot_components(forecast0)"
      ]
    },
    {
      "cell_type": "markdown",
      "id": "fd8b52da",
      "metadata": {
        "id": "fd8b52da"
      },
      "source": [
        "### 2) 쇼핑몰별 수량 예측"
      ]
    },
    {
      "cell_type": "code",
      "execution_count": null,
      "id": "bbdfa280",
      "metadata": {
        "id": "bbdfa280"
      },
      "outputs": [],
      "source": [
        "result_df = result[result['SHPR_CD']==90001302]\n",
        "result_df = result_df.sort_values(\"BKG_DATE\")"
      ]
    },
    {
      "cell_type": "code",
      "execution_count": null,
      "id": "dcb08ac3",
      "metadata": {
        "id": "dcb08ac3"
      },
      "outputs": [],
      "source": [
        "plt.figure(figsize=(10,10))\n",
        "plt.plot(result_df['BKG_DATE'], result_df['ITEM_QTY'])"
      ]
    },
    {
      "cell_type": "code",
      "execution_count": null,
      "id": "8452b717",
      "metadata": {
        "id": "8452b717"
      },
      "outputs": [],
      "source": [
        "result_df_sample = result_df.rename(columns={'BKG_DATE':'ds', 'ITEM_QTY':'y'})"
      ]
    },
    {
      "cell_type": "code",
      "execution_count": null,
      "id": "5abad83f",
      "metadata": {
        "id": "5abad83f"
      },
      "outputs": [],
      "source": [
        "m = Prophet()\n",
        "m.fit(result_df_sample)\n",
        "# Forcasting into the future\n",
        "future = m.make_future_dataframe(periods=365)\n",
        "forecast = m.predict(future)"
      ]
    },
    {
      "cell_type": "markdown",
      "id": "ec4bba2e",
      "metadata": {
        "id": "ec4bba2e"
      },
      "source": [
        "#### 시각화"
      ]
    },
    {
      "cell_type": "code",
      "execution_count": null,
      "id": "dd5cbd91",
      "metadata": {
        "id": "dd5cbd91"
      },
      "outputs": [],
      "source": [
        "figure = m.plot(forecast, xlabel='Date', ylabel='ITEM_QTY')"
      ]
    },
    {
      "cell_type": "code",
      "execution_count": null,
      "id": "4492c008",
      "metadata": {
        "id": "4492c008"
      },
      "outputs": [],
      "source": [
        "figure3 = m.plot_components(forecast)"
      ]
    },
    {
      "cell_type": "markdown",
      "id": "XdOv-FaiXWNV",
      "metadata": {
        "id": "XdOv-FaiXWNV"
      },
      "source": [
        "#스크래핑"
      ]
    },
    {
      "cell_type": "code",
      "execution_count": null,
      "id": "mcM9v-ASXS17",
      "metadata": {
        "id": "mcM9v-ASXS17"
      },
      "outputs": [],
      "source": [
        "cj_data_path = \"/CJ 2021년 미래기술 챌린지 이커머스 FC주문 데이터.pickle\"\n",
        "connection_failed_path = \"/바탕화면/connection_failed.txt\"\n",
        "ITEM_NM_dict_path = \"/바탕화면/ITEM_NM_dict.pickle\""
      ]
    },
    {
      "cell_type": "code",
      "execution_count": null,
      "id": "4a5whMujXeIN",
      "metadata": {
        "id": "4a5whMujXeIN"
      },
      "outputs": [],
      "source": [
        "manager = Manager()\n",
        "ITEM_NM_dict = manager.dict(zip([], [[]]))\n",
        "not_operational_list = manager.list()"
      ]
    },
    {
      "cell_type": "code",
      "execution_count": null,
      "id": "_zKcDCs_Xo_3",
      "metadata": {
        "id": "_zKcDCs_Xo_3"
      },
      "outputs": [],
      "source": [
        "cj_data_df = pd.read_pickle(cj_data_path)\n",
        "len(cj_data_df)"
      ]
    },
    {
      "cell_type": "markdown",
      "id": "4xvff46OXxJj",
      "metadata": {
        "id": "4xvff46OXxJj"
      },
      "source": [
        "- 스크래핑 함수"
      ]
    },
    {
      "cell_type": "code",
      "execution_count": null,
      "id": "spkxuLVoXpB0",
      "metadata": {
        "id": "spkxuLVoXpB0"
      },
      "outputs": [],
      "source": [
        "cj_data_gen = (i for i in cj_data_df[\"ITEM_CD\"])def scrape(url):\n",
        "    try:\n",
        "        headers = {\n",
        "            \"User-Agent\": \"Mozilla/5.0 (X11; Linux x86_64) AppleWebKit/537.36 (KHTML, like Gecko) Chrome/95.0.4638.54 Safari/537.36\"\n",
        "        }\n",
        "        req = requests.get(url, headers=headers, timeout=5, allow_redirects=True).text\n",
        "        raw_title = fromstring(req).xpath(\"./head/title\")\n",
        "        title = tostring(raw_title[0], encoding=\"unicode\")\n",
        "        if \"상품이 존재하지 않습니다.\" in title or \"현재 운영되고 있지 않습니다.\" in title:\n",
        "            not_operational_list.append(f\"{url} {str(dt.now())}\")\n",
        "        else:\n",
        "            title_tag = str(title)[7:-13]\n",
        "            ITEM_CD = url[38:-1]\n",
        "            if ITEM_CD not in ITEM_NM_dict:\n",
        "                ITEM_NM_dict[ITEM_CD] = title_tag\n",
        "        return False\n",
        "    except Exception:\n",
        "        return url"
      ]
    },
    {
      "cell_type": "markdown",
      "id": "3UcuePYCX1rx",
      "metadata": {
        "id": "3UcuePYCX1rx"
      },
      "source": [
        "- 실패 항목 재 스크래핑 함수"
      ]
    },
    {
      "cell_type": "code",
      "execution_count": null,
      "id": "dKIjREHmXpEL",
      "metadata": {
        "id": "dKIjREHmXpEL"
      },
      "outputs": [],
      "source": [
        "def excep_scrape(excep_url):\n",
        "    try:\n",
        "        headers = {\n",
        "            \"User-Agent\": \"Mozilla/5.0 (X11; Linux x86_64) AppleWebKit/537.36 (KHTML, like Gecko) Chrome/95.0.4638.54 Safari/537.36\"\n",
        "        }\n",
        "        req = requests.get(excep_url, headers=headers, timeout=5, allow_redirects=True).text\n",
        "        raw_title = fromstring(req).xpath(\"./head/title\")\n",
        "        title = tostring(raw_title[0], encoding=\"unicode\")\n",
        "        if \"상품이 존재하지 않습니다.\" in title or \"현재 운영되고 있지 않습니다.\" in title:\n",
        "            not_operational_list.append(f\"{excep_url} {str(dt.now())}\")\n",
        "        else:\n",
        "            title_tag = str(title)[7:-13]\n",
        "            ITEM_CD = excep_url[38:-1]\n",
        "            if ITEM_CD not in ITEM_NM_dict:\n",
        "                ITEM_NM_dict[ITEM_CD] = title_tag\n",
        "        return False\n",
        "    except Exception:\n",
        "        with open(connection_failed_path, mode=\"at\", encoding=\"utf-8-sig\") as f:\n",
        "            f.write(f\"{excep_url} {str(dt.now())}\\n\")\n",
        "        return excep_url"
      ]
    },
    {
      "cell_type": "markdown",
      "id": "i2pOcCKKX8Ls",
      "metadata": {
        "id": "i2pOcCKKX8Ls"
      },
      "source": [
        "- 스크래핑 결과 요약 함수"
      ]
    },
    {
      "cell_type": "code",
      "execution_count": null,
      "id": "2BHCjU9rXpG3",
      "metadata": {
        "id": "2BHCjU9rXpG3"
      },
      "outputs": [],
      "source": [
        "def summary(total, excep, failed):\n",
        "    m, s = divmod(time.time() - start_time, 60)\n",
        "    h, m = divmod(m, 60)\n",
        "    print(\"\\n####################SUMMARY####################\")\n",
        "    print(f\"  scraping finished at {str(dt.now())} properly.\")\n",
        "    print(f\"  Total {total - failed} urls successfully passed,\"\n",
        "          f\"\\n  {excep} exception(s) occured,\"\n",
        "          f\"\\n  and finally {failed} url(s) unabled to scrape.\")\n",
        "    print(f\"           --- total progress time {int(h)}h {int(m)}m {int(s)}s ---\")\n",
        "    print(\"###############################################\\n\")"
      ]
    },
    {
      "cell_type": "markdown",
      "id": "f-t1Au2YYDl-",
      "metadata": {
        "id": "f-t1Au2YYDl-"
      },
      "source": [
        "- 스크래핑 본체 함수"
      ]
    },
    {
      "cell_type": "code",
      "execution_count": null,
      "id": "EtX-UTkzXpMD",
      "metadata": {
        "id": "EtX-UTkzXpMD"
      },
      "outputs": [],
      "source": [
        "def run(proc, total, re):\n",
        "    proc, total, excep, failed = proc, total, 0, 0\n",
        "\n",
        "    print(f\"\\nbrand.naver scraping started at {str(dt.now())}\\n\")\n",
        "    pool = Pool(processes=proc)\n",
        "    if re == 'n':\n",
        "        urls = (f\"https://brand.naver.com/main/products/{str(url)}/\" for url in cj_data_gen)\n",
        "        excep_urls = [i for i in\n",
        "                      tqdm(pool.imap_unordered(scrape, urls), total=total, desc=\"scraping\", leave=False, ascii=True, ncols=100)\n",
        "                      if i is not False]\n",
        "        failed_urls = [i for i in tqdm(pool.imap_unordered(excep_scrape, excep_urls), total=len(excep_urls),\n",
        "                                        desc=\"exception\", leave=False, ascii=True, ncols=100) if i is not False]\n",
        "        write_pickle(ITEM_NM_dict_path, ITEM_NM_dict)\n",
        "        summary(total, len(excep_urls), len(failed_urls))\n",
        "        return\n",
        "    else:\n",
        "        with open(connection_failed_path, mode=\"r\", encoding=\"utf-8-sig\") as f:\n",
        "            urls = [i.split()[0] for i in f.readlines()]\n",
        "            print(f\"{len(urls)} urls are going to rescrape now...\")\n",
        "            excep_urls = [i for i in\n",
        "                          tqdm(pool.imap_unordered(scrape, urls), total=len(urls), desc=\"scraping\", leave=False, ascii=True, ncols=100)\n",
        "                          if i is not False]\n",
        "            failed_urls = [i for i in\n",
        "                            tqdm(pool.imap_unordered(excep_scrape, excep_urls), total=len(excep_urls),\n",
        "                                desc=\"exception\", leave=False, ascii=True, ncols=100) if i is not False]\n",
        "            write_pickle(ITEM_NM_dict_path, ITEM_NM_dict)\n",
        "            summary(len(urls), len(excep_urls), len(failed_urls))\n",
        "        if len(failed_urls) == 0 and os.path.isfile(connection_failed_path):\n",
        "            os.remove(connection_failed_path)\n",
        "            print(\"connection_failed.txt has been deleted.\\n\")\n",
        "        return"
      ]
    },
    {
      "cell_type": "code",
      "execution_count": null,
      "id": "DPmzew1yXpOW",
      "metadata": {
        "id": "DPmzew1yXpOW"
      },
      "outputs": [],
      "source": [
        "start_time = time.time()\n",
        "\n",
        "#프로세스 수, 스크래핑 길이, 재탐색 여부\n",
        "run(150, len(cj_data_df), 'n')"
      ]
    },
    {
      "cell_type": "code",
      "execution_count": null,
      "id": "yl6LFOnEXpQ1",
      "metadata": {
        "id": "yl6LFOnEXpQ1"
      },
      "outputs": [],
      "source": [
        "ITEM_NM_dict = pd.read_pickle(ITEM_NM_dict_path)\n",
        "print(len(ITEM_NM_dict))\n",
        "print(ITEM_NM_dict)"
      ]
    }
  ],
  "metadata": {
    "colab": {
      "collapsed_sections": [
        "kw6GbP-1a4u7",
        "0a41ea72",
        "b5961c7d",
        "1acfd138",
        "9f59ddc8",
        "d877e40c",
        "0aa53370",
        "7dd12fbb",
        "c4dce2a9",
        "4c12f288",
        "f3417d03",
        "XdOv-FaiXWNV"
      ],
      "name": "CJ_미래기술챌린지_Code.ipynb",
      "provenance": []
    },
    "kernelspec": {
      "display_name": "Python 3",
      "language": "python",
      "name": "python3"
    },
    "language_info": {
      "codemirror_mode": {
        "name": "ipython",
        "version": 3
      },
      "file_extension": ".py",
      "mimetype": "text/x-python",
      "name": "python",
      "nbconvert_exporter": "python",
      "pygments_lexer": "ipython3",
      "version": "3.8.8"
    }
  },
  "nbformat": 4,
  "nbformat_minor": 5
}
